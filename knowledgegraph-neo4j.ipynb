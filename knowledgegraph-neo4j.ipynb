{
 "cells": [
  {
   "cell_type": "markdown",
   "metadata": {},
   "source": [
    "# Create knowledge graph from pdf with LLM. (neo4j version)\n",
    "![title](neo4jdogs.png)"
   ]
  },
  {
   "cell_type": "code",
   "execution_count": 1,
   "metadata": {},
   "outputs": [
    {
     "name": "stdout",
     "output_type": "stream",
     "text": [
      "Requirement already satisfied: langchain==0.1.5 in ./.venv/lib/python3.11/site-packages (from -r requirements.txt (line 1)) (0.1.5)\n",
      "Requirement already satisfied: langchain_core==0.1.22 in ./.venv/lib/python3.11/site-packages (from -r requirements.txt (line 2)) (0.1.22)\n",
      "Requirement already satisfied: langchain_community==0.0.19 in ./.venv/lib/python3.11/site-packages (from -r requirements.txt (line 3)) (0.0.19)\n",
      "Requirement already satisfied: langchain_openai==0.0.5 in ./.venv/lib/python3.11/site-packages (from -r requirements.txt (line 4)) (0.0.5)\n",
      "Requirement already satisfied: neo4j in ./.venv/lib/python3.11/site-packages (from -r requirements.txt (line 5)) (5.15.0)\n",
      "Requirement already satisfied: openai==1.12.0 in ./.venv/lib/python3.11/site-packages (from -r requirements.txt (line 6)) (1.12.0)\n",
      "Requirement already satisfied: tiktoken in ./.venv/lib/python3.11/site-packages (from -r requirements.txt (line 7)) (0.5.2)\n",
      "Requirement already satisfied: python-dotenv in ./.venv/lib/python3.11/site-packages (from -r requirements.txt (line 8)) (1.0.0)\n",
      "Requirement already satisfied: pypdf in ./.venv/lib/python3.11/site-packages (from -r requirements.txt (line 9)) (3.17.3)\n",
      "Requirement already satisfied: gremlinpython==3.7.1 in ./.venv/lib/python3.11/site-packages (from -r requirements.txt (line 10)) (3.7.1)\n",
      "Requirement already satisfied: aiohttp in ./.venv/lib/python3.11/site-packages (from -r requirements.txt (line 11)) (3.9.1)\n",
      "Requirement already satisfied: async-timeout in ./.venv/lib/python3.11/site-packages (from -r requirements.txt (line 12)) (4.0.3)\n",
      "Requirement already satisfied: nest-asyncio in ./.venv/lib/python3.11/site-packages (from -r requirements.txt (line 13)) (1.5.8)\n",
      "Requirement already satisfied: PyYAML>=5.3 in ./.venv/lib/python3.11/site-packages (from langchain==0.1.5->-r requirements.txt (line 1)) (6.0.1)\n",
      "Requirement already satisfied: SQLAlchemy<3,>=1.4 in ./.venv/lib/python3.11/site-packages (from langchain==0.1.5->-r requirements.txt (line 1)) (2.0.23)\n",
      "Requirement already satisfied: dataclasses-json<0.7,>=0.5.7 in ./.venv/lib/python3.11/site-packages (from langchain==0.1.5->-r requirements.txt (line 1)) (0.6.3)\n",
      "Requirement already satisfied: jsonpatch<2.0,>=1.33 in ./.venv/lib/python3.11/site-packages (from langchain==0.1.5->-r requirements.txt (line 1)) (1.33)\n",
      "Requirement already satisfied: langsmith<0.1,>=0.0.83 in ./.venv/lib/python3.11/site-packages (from langchain==0.1.5->-r requirements.txt (line 1)) (0.0.87)\n",
      "Requirement already satisfied: numpy<2,>=1 in ./.venv/lib/python3.11/site-packages (from langchain==0.1.5->-r requirements.txt (line 1)) (1.26.2)\n",
      "Requirement already satisfied: pydantic<3,>=1 in ./.venv/lib/python3.11/site-packages (from langchain==0.1.5->-r requirements.txt (line 1)) (2.5.3)\n",
      "Requirement already satisfied: requests<3,>=2 in ./.venv/lib/python3.11/site-packages (from langchain==0.1.5->-r requirements.txt (line 1)) (2.31.0)\n",
      "Requirement already satisfied: tenacity<9.0.0,>=8.1.0 in ./.venv/lib/python3.11/site-packages (from langchain==0.1.5->-r requirements.txt (line 1)) (8.2.3)\n",
      "Requirement already satisfied: anyio<5,>=3 in ./.venv/lib/python3.11/site-packages (from langchain_core==0.1.22->-r requirements.txt (line 2)) (4.2.0)\n",
      "Requirement already satisfied: packaging<24.0,>=23.2 in ./.venv/lib/python3.11/site-packages (from langchain_core==0.1.22->-r requirements.txt (line 2)) (23.2)\n",
      "Requirement already satisfied: distro<2,>=1.7.0 in ./.venv/lib/python3.11/site-packages (from openai==1.12.0->-r requirements.txt (line 6)) (1.8.0)\n",
      "Requirement already satisfied: httpx<1,>=0.23.0 in ./.venv/lib/python3.11/site-packages (from openai==1.12.0->-r requirements.txt (line 6)) (0.26.0)\n",
      "Requirement already satisfied: sniffio in ./.venv/lib/python3.11/site-packages (from openai==1.12.0->-r requirements.txt (line 6)) (1.3.0)\n",
      "Requirement already satisfied: tqdm>4 in ./.venv/lib/python3.11/site-packages (from openai==1.12.0->-r requirements.txt (line 6)) (4.66.1)\n",
      "Requirement already satisfied: typing-extensions<5,>=4.7 in ./.venv/lib/python3.11/site-packages (from openai==1.12.0->-r requirements.txt (line 6)) (4.9.0)\n",
      "Requirement already satisfied: aenum<4.0.0,>=1.4.5 in ./.venv/lib/python3.11/site-packages (from gremlinpython==3.7.1->-r requirements.txt (line 10)) (3.1.15)\n",
      "Requirement already satisfied: six<2.0.0,>=1.10.0 in ./.venv/lib/python3.11/site-packages (from gremlinpython==3.7.1->-r requirements.txt (line 10)) (1.16.0)\n",
      "Requirement already satisfied: isodate<1.0.0,>=0.6.0 in ./.venv/lib/python3.11/site-packages (from gremlinpython==3.7.1->-r requirements.txt (line 10)) (0.6.1)\n",
      "Requirement already satisfied: pytz in ./.venv/lib/python3.11/site-packages (from neo4j->-r requirements.txt (line 5)) (2023.3.post1)\n",
      "Requirement already satisfied: regex>=2022.1.18 in ./.venv/lib/python3.11/site-packages (from tiktoken->-r requirements.txt (line 7)) (2023.10.3)\n",
      "Requirement already satisfied: attrs>=17.3.0 in ./.venv/lib/python3.11/site-packages (from aiohttp->-r requirements.txt (line 11)) (23.1.0)\n",
      "Requirement already satisfied: multidict<7.0,>=4.5 in ./.venv/lib/python3.11/site-packages (from aiohttp->-r requirements.txt (line 11)) (6.0.4)\n",
      "Requirement already satisfied: yarl<2.0,>=1.0 in ./.venv/lib/python3.11/site-packages (from aiohttp->-r requirements.txt (line 11)) (1.9.4)\n",
      "Requirement already satisfied: frozenlist>=1.1.1 in ./.venv/lib/python3.11/site-packages (from aiohttp->-r requirements.txt (line 11)) (1.4.1)\n",
      "Requirement already satisfied: aiosignal>=1.1.2 in ./.venv/lib/python3.11/site-packages (from aiohttp->-r requirements.txt (line 11)) (1.3.1)\n",
      "Requirement already satisfied: idna>=2.8 in ./.venv/lib/python3.11/site-packages (from anyio<5,>=3->langchain_core==0.1.22->-r requirements.txt (line 2)) (3.6)\n",
      "Requirement already satisfied: marshmallow<4.0.0,>=3.18.0 in ./.venv/lib/python3.11/site-packages (from dataclasses-json<0.7,>=0.5.7->langchain==0.1.5->-r requirements.txt (line 1)) (3.20.1)\n",
      "Requirement already satisfied: typing-inspect<1,>=0.4.0 in ./.venv/lib/python3.11/site-packages (from dataclasses-json<0.7,>=0.5.7->langchain==0.1.5->-r requirements.txt (line 1)) (0.9.0)\n",
      "Requirement already satisfied: certifi in ./.venv/lib/python3.11/site-packages (from httpx<1,>=0.23.0->openai==1.12.0->-r requirements.txt (line 6)) (2023.11.17)\n",
      "Requirement already satisfied: httpcore==1.* in ./.venv/lib/python3.11/site-packages (from httpx<1,>=0.23.0->openai==1.12.0->-r requirements.txt (line 6)) (1.0.2)\n",
      "Requirement already satisfied: h11<0.15,>=0.13 in ./.venv/lib/python3.11/site-packages (from httpcore==1.*->httpx<1,>=0.23.0->openai==1.12.0->-r requirements.txt (line 6)) (0.14.0)\n",
      "Requirement already satisfied: jsonpointer>=1.9 in ./.venv/lib/python3.11/site-packages (from jsonpatch<2.0,>=1.33->langchain==0.1.5->-r requirements.txt (line 1)) (2.4)\n",
      "Requirement already satisfied: annotated-types>=0.4.0 in ./.venv/lib/python3.11/site-packages (from pydantic<3,>=1->langchain==0.1.5->-r requirements.txt (line 1)) (0.6.0)\n",
      "Requirement already satisfied: pydantic-core==2.14.6 in ./.venv/lib/python3.11/site-packages (from pydantic<3,>=1->langchain==0.1.5->-r requirements.txt (line 1)) (2.14.6)\n",
      "Requirement already satisfied: charset-normalizer<4,>=2 in ./.venv/lib/python3.11/site-packages (from requests<3,>=2->langchain==0.1.5->-r requirements.txt (line 1)) (3.3.2)\n",
      "Requirement already satisfied: urllib3<3,>=1.21.1 in ./.venv/lib/python3.11/site-packages (from requests<3,>=2->langchain==0.1.5->-r requirements.txt (line 1)) (2.1.0)\n",
      "Requirement already satisfied: greenlet!=0.4.17 in ./.venv/lib/python3.11/site-packages (from SQLAlchemy<3,>=1.4->langchain==0.1.5->-r requirements.txt (line 1)) (3.0.3)\n",
      "Requirement already satisfied: mypy-extensions>=0.3.0 in ./.venv/lib/python3.11/site-packages (from typing-inspect<1,>=0.4.0->dataclasses-json<0.7,>=0.5.7->langchain==0.1.5->-r requirements.txt (line 1)) (1.0.0)\n",
      "\n",
      "\u001b[1m[\u001b[0m\u001b[34;49mnotice\u001b[0m\u001b[1;39;49m]\u001b[0m\u001b[39;49m A new release of pip is available: \u001b[0m\u001b[31;49m23.3.2\u001b[0m\u001b[39;49m -> \u001b[0m\u001b[32;49m24.0\u001b[0m\n",
      "\u001b[1m[\u001b[0m\u001b[34;49mnotice\u001b[0m\u001b[1;39;49m]\u001b[0m\u001b[39;49m To update, run: \u001b[0m\u001b[32;49mpip install --upgrade pip\u001b[0m\n",
      "Note: you may need to restart the kernel to use updated packages.\n"
     ]
    }
   ],
   "source": [
    "%pip install -r requirements.txt"
   ]
  },
  {
   "cell_type": "markdown",
   "metadata": {},
   "source": [
    "# Load env variables and connect to neo4j database\n",
    "Please run _docker-compose up_ first on the directory to start the database.    "
   ]
  },
  {
   "cell_type": "code",
   "execution_count": 2,
   "metadata": {},
   "outputs": [],
   "source": [
    "import os\n",
    "from langchain.graphs import Neo4jGraph\n",
    "from dotenv import load_dotenv\n",
    "\n",
    "load_dotenv()\n",
    "\n",
    "graph = Neo4jGraph(\n",
    "    url=os.getenv(\"NEO4J_URL\"),\n",
    "    username=os.getenv(\"NEO4J_USERNAME\"),\n",
    "    password=os.getenv(\"NEO4J_PASSWORD\")\n",
    ")"
   ]
  },
  {
   "cell_type": "code",
   "execution_count": 3,
   "metadata": {},
   "outputs": [
    {
     "name": "stderr",
     "output_type": "stream",
     "text": [
      "/home/pj/dev/cosmosdb-llm-knowledge-graph/.venv/lib/python3.11/site-packages/langchain_core/_api/deprecation.py:117: LangChainDeprecationWarning: The class `langchain_community.chat_models.azure_openai.AzureChatOpenAI` was deprecated in langchain-community 0.0.10 and will be removed in 0.2.0. An updated version of the class exists in the langchain-openai package and should be used instead. To use it run `pip install -U langchain-openai` and import as `from langchain_openai import AzureChatOpenAI`.\n",
      "  warn_deprecated(\n"
     ]
    }
   ],
   "source": [
    "from langchain.schema import Document\n",
    "from langchain.chat_models import AzureChatOpenAI\n",
    "from langchain.schema import OutputParserException\n",
    "llm = AzureChatOpenAI(\n",
    "    model=os.getenv(\"OPENAI_DEPLOYMENT_NAME\"), \n",
    "    temperature=0, \n",
    "    max_tokens=4000,\n",
    "    verbose=True)\n",
    "\n"
   ]
  },
  {
   "cell_type": "code",
   "execution_count": 4,
   "metadata": {},
   "outputs": [],
   "source": [
    "# Simplified Pydantic model of the graph.\n",
    "# The Langchain KnowledgeGraph model is too complicated as OpenAI functions schema\n",
    "\n",
    "\n",
    "from typing import List, Dict, Optional, Union\n",
    "from langchain.pydantic_v1 import Field, BaseModel\n",
    "\n",
    "class Property(BaseModel):\n",
    "  \"\"\"A single property consisting of key and value\"\"\"\n",
    "  key: str = Field(..., description=\"key\")\n",
    "  value: str = Field(..., description=\"value\")\n",
    "\n",
    "class Node(BaseModel):\n",
    "    \"Represents a node in a graph with associated properties\"\n",
    "    id: Union[str, int]\n",
    "    type: Optional[str] = \"Node\"\n",
    "    properties: Optional[List[Property]] = Field(\n",
    "        None, description=\"List of node properties\")\n",
    "\n",
    "class Relationship(BaseModel):\n",
    "    \"Represents a directed relationship between two nodes in a graph.\"\n",
    "    source: Union[str, int] = Field(..., description=\"Id of source node\")\n",
    "    target: Union[str, int] = Field(..., description=\"Id of target node\")\n",
    "    type: Optional[str] =  Field(..., description=\"Type of relationship\")\n",
    "    properties: Optional[List[Property]] = Field(\n",
    "        None, description=\"List of relationship properties\"\n",
    "    )\n",
    "    \n",
    "class KnowledgeGraph(BaseModel):\n",
    "    \"\"\"Knowlege graph consisting of nodes and relationships\"\"\"\n",
    "    nodes: List[Node] = Field(\n",
    "        ..., description=\"List of nodes in the knowledge graph\")\n",
    "    rels: List[Relationship] = Field(\n",
    "        ..., description=\"List of relationships in the knowledge graph\"\n",
    "    )"
   ]
  },
  {
   "cell_type": "markdown",
   "metadata": {},
   "source": [
    "# Magic\n",
    "The prompt, the function call and the chain."
   ]
  },
  {
   "cell_type": "code",
   "execution_count": 5,
   "metadata": {},
   "outputs": [],
   "source": [
    "\n",
    "from langchain.prompts import ChatPromptTemplate\n",
    "from langchain_core.prompts.chat import MessagesPlaceholder\n",
    "from langchain.agents import AgentExecutor, create_openai_functions_agent\n",
    "from langchain_core.tracers import ConsoleCallbackHandler\n",
    "from langchain.tools import tool\n",
    "\n",
    "# The prompt is from langchain examples\n",
    "\n",
    "system_prompt = \"\"\"\n",
    "# Knowledge Graph Instructions for GPT-4\n",
    "## 1. Overview\n",
    "You are a top-tier algorithm designed for extracting information in structured formats to build a knowledge graph.\n",
    "- **Nodes** represent entities and concepts. They're akin to Wikipedia nodes.\n",
    "- The aim is to achieve simplicity and clarity in the knowledge graph, making it accessible for a vast audience.\n",
    "## 2. Labeling Nodes\n",
    "- **Consistency**: Ensure you use basic or elementary types for node labels.\n",
    "  - For example, when you identify an entity representing a person, always label it as **\"person\"**. Avoid using more specific terms like \"mathematician\" or \"scientist\".\n",
    "- **Node IDs**: Never utilize integers as node IDs. Node IDs should be names or human-readable identifiers found in the text.\n",
    "## 3. Handling Numerical Data and Dates\n",
    "- Numerical data, like age or other related information, should be incorporated as attributes or properties of the respective nodes.\n",
    "- **No Separate Nodes for Dates/Numbers**: Do not create separate nodes for dates or numerical values. Always attach them as attributes or properties of nodes.\n",
    "- **Property Format**: Properties must be in a key-value format.\n",
    "- **Quotation Marks**: Never use escaped single or double quotes within property values.\n",
    "- **Naming Convention**: Use camelCase for property keys, e.g., `birthDate`.\n",
    "## 4. Coreference Resolution\n",
    "- **Maintain Entity Consistency**: When extracting entities, it's vital to ensure consistency.\n",
    "If an entity, such as \"John Doe\", is mentioned multiple times in the text but is referred to by different names or pronouns (e.g., \"Joe\", \"he\"),\n",
    "always use the most complete identifier for that entity throughout the knowledge graph. In this example, use \"John Doe\" as the entity ID.\n",
    "Remember, the knowledge graph should be coherent and easily understandable, so maintaining consistency in entity references is crucial.\n",
    "## 5. Strict Compliance\n",
    "Adhere to the rules strictly. Non-compliance will result in termination.\n",
    "*Double check* that the JSON structure is correct.\n",
    "\n",
    "\"\"\"\n",
    "\n",
    "# Store function call results to this list\n",
    "function_responses = []\n",
    "\n",
    "# Define function call in form of a langchain tool (it's converted to a open-ai function). The function schema is defined with pydantic.\n",
    "@tool\n",
    "def knowledge_graph(object: KnowledgeGraph) -> Dict[str, List]:\n",
    "    \"\"\"A Tool to convert text to knowledge grap\"\"\"\n",
    "    function_responses.append(object)\n",
    "    return  object\n",
    "\n",
    "\n",
    "# Added some more precise instructions to have more control over the output. \n",
    "# Likely you would have existing schemas or terminology that you would like to reuse.\n",
    "\n",
    "prompt = ChatPromptTemplate.from_messages([\n",
    "                (\"system\",system_prompt),\n",
    "                MessagesPlaceholder(\"chat_history\", optional=True),\n",
    "                (\"human\", \n",
    "                 \"\"\"In this particular case we are interested in dogs. We want to extract information about dog breeds and their characteristics.\n",
    "                    Characterics should be nodes and relationships should be between dog breeds and their characteristics. \n",
    "                    Ignore other entities than dogs, like people and addresses.\n",
    "                    - **Allowed Node Labels:** Breed, BreedingGroup, Characteristic\n",
    "                    {input}\"\"\"),\n",
    "                MessagesPlaceholder(\"agent_scratchpad\"),\n",
    "            ])\n",
    "\n",
    "function_agent = create_openai_functions_agent(llm, [knowledge_graph], prompt)\n",
    "chain = AgentExecutor(agent=function_agent, tools=[knowledge_graph], verbose=True, callbacks=[ConsoleCallbackHandler()])\n"
   ]
  },
  {
   "cell_type": "code",
   "execution_count": 6,
   "metadata": {},
   "outputs": [],
   "source": [
    "from model import map_to_base_node, map_to_base_relationship\n",
    "from langchain_community.graphs.graph_document import GraphDocument\n",
    "\n",
    "def extract_and_store_graph(data: KnowledgeGraph, document: Document) -> Optional[GraphDocument]:\n",
    "    # Extract graph data using OpenAI functions\n",
    "            \n",
    "        # Construct a graph document\n",
    "        nodes = []\n",
    "        rels = []\n",
    "        try:\n",
    "            nodes= list(map(map_to_base_node, data.nodes))\n",
    "            rels= map_to_base_relationship(data.rels, nodes)\n",
    "        except Exception as e:\n",
    "            print(\"parsing exception\")\n",
    "            print(e)\n",
    "        \n",
    "        if len(nodes) == 0:\n",
    "            return None\n",
    "            \n",
    "        return GraphDocument(\n",
    "            nodes = nodes,\n",
    "            relationships = rels,\n",
    "            source = document\n",
    "        )\n",
    "\n",
    "        "
   ]
  },
  {
   "cell_type": "markdown",
   "metadata": {},
   "source": [
    "# Download test documents"
   ]
  },
  {
   "cell_type": "code",
   "execution_count": 7,
   "metadata": {},
   "outputs": [
    {
     "name": "stderr",
     "output_type": "stream",
     "text": [
      "100%|██████████| 1/1 [00:00<00:00, 2796.20it/s]"
     ]
    },
    {
     "name": "stdout",
     "output_type": "stream",
     "text": [
      "Downloading https://www.marinhumane.org/wp-content/uploads/2017/06/Dog-Breed-Characteristics-Behavior.pdf\n"
     ]
    },
    {
     "name": "stderr",
     "output_type": "stream",
     "text": [
      "\n"
     ]
    }
   ],
   "source": [
    "from tqdm import tqdm\n",
    "import urllib.request\n",
    "\n",
    "local_folder = \"./data/\"\n",
    "os.makedirs(local_folder,exist_ok=True)\n",
    "\n",
    "doc_names = []\n",
    "\n",
    "documents = [\n",
    "\"https://www.marinhumane.org/wp-content/uploads/2017/06/Dog-Breed-Characteristics-Behavior.pdf\" \n",
    "]\n",
    "for doc in tqdm(documents):\n",
    "    print(\"Downloading\", doc)\n",
    "    doc_names.append(doc.split(\"/\")[-1])\n",
    "    if os.path.isfile(local_folder + doc.split(\"/\")[-1]):\n",
    "        continue\n",
    "    urllib.request.urlretrieve(doc, local_folder + doc.split(\"/\")[-1])\n",
    "    "
   ]
  },
  {
   "cell_type": "markdown",
   "metadata": {},
   "source": [
    "## PDF to Txt\n",
    "Read and chuck the docs"
   ]
  },
  {
   "cell_type": "code",
   "execution_count": 8,
   "metadata": {},
   "outputs": [
    {
     "name": "stdout",
     "output_type": "stream",
     "text": [
      "Processing  Dog-Breed-Characteristics-Behavior.pdf\n",
      "Processed 7 pages in 0.153604 seconds\n",
      "\n",
      "{'Dog-Breed-Characteristics-Behavior.pdf': [(0, 0, ' \\n  \\n Behavior & Training  \\n 415.506.6 280 \\n Available B&T Services  \\n \\n \\n171 Bel Marin Keys Blvd., Novato, CA  94949    Dog Breed Characteristics & Behavior  \\nLike us at :   Page 1 of 7 \\nDog Breed Characteristics & Behavior  \\n \\nWhy is it important to know about the characteristics and behavior of different breeds?  \\nAll dogs are individuals and have their own personalities. At the same time, different breeds tend to also \\nhave certain characteristics that help define that particular breed. This information can be helpful to you \\nwhen you are choosing a  dog or trying to understand his  behavior.  \\n \\nThe AKC (American Kennel Club) places dog breeds within seven different groups. In order to ac count for \\nthe different behaviors within a particular group, some groups can be further subdivided into families.  \\n \\nHerding group:  \\nBreeds in this group were bred to herd sheep and cattle. They do this by stalking and staring, barking \\nand/or nipping at their  charges. They are bred to be intelli gent, athletic and diligent and  they are very \\ntrainable. Dogs from this group will do best with lots of exercise. They do even better if they have a job \\nsuch as agility where they can use their natural athletic ability to navigate an agility course. Barking can be \\na problem if they are bored and they may attempt to “herd” their people -pack by nipping and chasing.  \\n \\nCharacteristics : \\n\\uf0b7 Alert  \\n\\uf0b7 Smart  \\n\\uf0b7 Independent  \\n\\uf0b7 Confident  \\n\\uf0b7 Trainable  \\n\\uf0b7 Loyal  \\n\\uf0b7 Affectionate  \\n Herding breeds : \\n\\uf0b7 Collies  \\n\\uf0b7 Sheepdogs  \\n\\uf0b7 Cattle dogs  \\n\\uf0b7 Corgis  \\n\\uf0b7 Shepherds  \\n\\uf0b7 Belgian Malinois  \\n\\uf0b7 Belgian Tervuren  \\n \\n \\n  \\n'), (1, 1625, ' \\n  \\n Behavior & Training  \\n 415.506.6 280 \\n Available B&T Services  \\n \\n \\n171 Bel Marin Keys Blvd., Novato, CA  94949    Dog Breed Characteristics & Behavior  \\nLike us at :   Page 2 of 7 \\nHound group : \\nHounds were originally bred to hunt. Though not used to hunt as much now, the instinct is still strong in \\nthem. They will have a strong prey drive and will want to chase down small animals. Sighthounds can run \\nforever and need off leash opportunities in sa fe, enclosed areas.  \\n \\nCharacteristics : \\n\\uf0b7 Independent  \\n\\uf0b7 Sweet  \\n\\uf0b7 Intelligent  \\n\\uf0b7 Affectionate  \\n \\nFamilies within the hound group : \\nSight hounds : Sight hounds were bred to find and chase down larger animals such as deer and elk. \\nSight hounds are long and lean  and have excellent vision . \\nSighthounds can  run for a long stretch, but they are basically \\nsprinters . They run until they catch their prey,  and then stop \\nfor a rest . In many parts of the world sighthounds are still used \\nto hunt . They may not be interested in obedience work and can \\nbe hard to train.   \\n \\n• Afghan  \\n• Saluki  \\n• Ibizan  \\n• Pharoah  \\n• Greyhound  \\n• Whippet  \\n• Italian Greyhound  \\n• Rhodesian Ridgeback (a sight & scent hound )  \\n \\nScent hounds : Scent hounds are usually smaller than the sight hounds. They were bred to chase \\nsmaller prey to the ground. They have an incredible sense of smell and they typically have long ears. \\nBloodhounds and Bassets have ears that can scrape the ground when they are sniffing, and so stir up \\neven more smells. Scent hounds are forever in search o f a scent and will run away from you if a scent \\nbeckons.  \\n• Beagle  \\n• Basset Hound  \\n• Bloodhound  \\n• Otterhound  \\n• Fox Hounds  \\n \\n  \\n'), (2, 3309, ' \\n  \\n Behavior & Training  \\n 415.506.6 280 \\n Available B&T Services  \\n \\n \\n171 Bel Marin Keys Blvd., Novato, CA  94949    Dog Breed Characteristics & Behavior  \\nLike us at :   Page 3 of 7 \\nNon -Sporting Group : \\nThis is the fastest growing group and the dogs in it range  in terms of size, shape, colors, coat types, etc. \\nThey are often  dogs  who  no longer perform the duties for which they were originally bred. For example, \\nthe Dalmatian no longer accompanies carriages, the Bulldog is no longer a bull baiter and the Poodle is no \\nlonger a water -hunting dog. Their temperaments are as varied  as their looks. This is the group where many \\nof our “companion” animals come from.  \\n \\nCharacteristics : \\n\\uf0b7 Playful  \\n\\uf0b7 Smart  \\n\\uf0b7 Curious  \\n\\uf0b7 Friendly  \\n\\uf0b7 Loyal  \\n\\uf0b7 Eager  \\n Non sporting breeds : \\n\\uf0b7 American Eskimo  \\n\\uf0b7 Boston Terrier  \\n\\uf0b7 Bulldogs  \\n\\uf0b7 Shar -Pei \\n\\uf0b7 Chow Chow  \\n\\uf0b7 Dalmation  \\n\\uf0b7 Keeshond  \\n\\uf0b7 Poodle  \\n\\uf0b7 Shiba -Inu \\n\\uf0b7 Lhasa Apso  \\n\\uf0b7 Tibetan Terrier  \\n \\nSporting group:  \\nThese dogs were originally bred to assist hunters in finding, pointing, flushing and retrieving game. Many \\nstill perform those jobs for hunters . They are loyal and trainable. The se dogs can also be successful  therapy \\ndogs, assistance dogs and search/rescue dogs. They are generally very athletic, active and strong and will \\nneed plenty of exercise, and maybe even a job such as agility or fly ball. If these dogs don’t g et adequate \\ndaily exercise they can become frustrated and destructive.  \\n \\nCharacteristics : \\n\\uf0b7 Happy  \\n\\uf0b7 Eager  \\n\\uf0b7 Trainable  \\uf0b7 Bright  \\n\\uf0b7 Friendly  \\uf0b7 Confident  \\n\\uf0b7 Lovable  \\n \\nFamilies within the sporting group : \\nRetrievers : Retrievers are trained to go and get “it” and bring “it” back. “It” can be on land or in the \\nwater. Retrievers are usually outgoing, good natured and very energetic.  \\n• Flat Coated and Curly Coated  \\n• Labrador and Golden  \\n• Chesapeake Bay (not as \\nfriendly and ou tgoing as they \\nwere also used as guard dogs)  \\n \\n \\n'), (3, 5270, ' \\n  \\n Behavior & Training  \\n 415.506.6 280 \\n Available B&T Services  \\n \\n \\n171 Bel Marin Keys Blvd., Novato, CA  94949    Dog Breed Characteristics & Behavior  \\nLike us at :   Page 4 of 7 \\nSpaniels : Spaniels are hunting dogs who  were bred to flush or “spring” game from the bushes so the \\nhunter could shoot it. These dogs are typically energetic and fun loving and will love the game of fetch . \\nNote : Some strains of Cocker and Springer Spaniel develop a behavior problem known as “rage \\nsyndrome .” It is thought to be a form of dominant aggression or conflict behavior. It is characterized by \\nattacking and biting for no apparent reason.  \\n• American Water  \\n• Clumber  \\n• Cocker  \\n• English Cocker  \\n• English Toy  \\n• English Springer  \\n• Field  \\n• Irish Water  \\n• Japanese Chin  \\n• Sussex Tibetan  \\n• Welsh Spaniels  \\n \\nPointers and Setters : Pointers were bred to find and point to the prey animal, usually birds. They are \\nvery energetic and at times nervous but generally \\nhave happy and tolerant dispositions. Setters are \\nmore sensitive and nervous.   \\n• Vizsla  \\n• German Shorthair  \\n• Wirehaired and English Pointer  \\n• Irish, English and Gordon Setters  \\n• Weimaraner  \\n \\nTerrier Group : \\nTerriers were bred to chase after and kill vermin such as \\nrats, foxes and weasels. Tenacious and determined to \\ncatch their prey, they will also burrow into the ground \\nafter them. Some of the terriers were bred to kill rats in \\npit contests, and later to fight each other. You do need to be on yo ur toes if you are drawn to terriers!  \\n \\nCharacteristics : \\n\\uf0b7 Scrappy  \\n\\uf0b7 Energetic  \\n\\uf0b7 Independent  \\n\\uf0b7 Predatory  \\n\\uf0b7 Hardy  \\n\\uf0b7 Smart  \\n\\uf0b7 Playful  Terrier breeds : \\n\\uf0b7 Airedale  \\n\\uf0b7 Bedlington  \\n\\uf0b7 Boston  \\n\\uf0b7 Bull \\n\\uf0b7 Scottish  \\n\\uf0b7 Staffordshire  \\n\\uf0b7 Russell  \\n \\n'), (4, 7033, ' \\n  \\n Behavior & Training  \\n 415.506.6 280 \\n Available B&T Services  \\n \\n \\n171 Bel Marin Keys Blvd., Novato, CA  94949    Dog Breed Characteristics & Behavior  \\nLike us at :   Page 5 of 7 \\nToy Group : \\nDogs in  this group are miniature versions of dogs from many other groups. Many are \\ndescended from larger terriers and spaniels and do retain some of those traits. The \\nPomeranian is descended from the Spitz family of dogs —the sled dogs of Iceland and \\nLapland! Thes e small dogs usually have a lot of spirit and strong personalities. They \\ncan become the pack and household leader if the people don’t take charge of the \\nsituation. They can also be snappy.  \\n \\nCharacteristics : \\n\\uf0b7 Sensitive  \\n\\uf0b7 Sassy  \\n\\uf0b7 Intelligent  \\n\\uf0b7 Alert \\n\\uf0b7 Affectionate  \\n\\uf0b7 Fearless  \\n Toy breeds : \\n\\uf0b7 Cavalier King Charles  \\n\\uf0b7 Chihuahua  \\n\\uf0b7 Havanese  \\n\\uf0b7 Italian Greyhound  \\n\\uf0b7 Maltese  \\n\\uf0b7 Pomeranian   \\n\\uf0b7 Pekinese  \\n\\uf0b7 Toy Poodle  \\n\\uf0b7 Pug \\n\\uf0b7 Shih Tzu  \\n\\uf0b7 Silky & Yorkshire Terriers  \\n \\n \\nWorking Group : \\nThe working group includes dogs who  were originally bred to be draft dogs, hunters and guardians. They \\nare usually medium to large in size (over 40 pounds). These dogs are athletic, strong, courageou s and loyal. \\nThese are dogs who m people have come to rely on.  \\n \\nCharacteristics : \\n\\uf0b7 Strong  \\n\\uf0b7 Courageous  \\n\\uf0b7 Loyal  \\uf0b7 Affectionate  \\n\\uf0b7 Calm  \\n\\uf0b7 Protective  \\uf0b7 Smart  \\n\\uf0b7 Confident  \\n \\nFamilies within the working group : \\nNorthern Breeds : These beautiful dogs often look like wolves. Many are used in breeding Wol f Hybrids. \\nA working Malamute can pull up to a ton of material a short distance and Huskies can travel pulling a \\nloaded sled for many miles. Samoyeds are also sled dogs and the small \\nsized American Eskimos are sled dogs who  have been bred down to a \\nsmaller  size.  These dogs are very independent and may have a \\ntendency to roam if their home base is not securely fenced. (Please \\nreview  our handout on Escape Artists .)  \\n• Akita  \\n• Alaskan Malamute  \\n• Siberian Husky  \\n• Samoyed  \\n• Norwegian Elkhound  \\n• Finnish Spitz  \\n• American Husky  \\n'), (5, 9086, ' \\n  \\n Behavior & Training  \\n 415.506.6 280 \\n Available B&T Services  \\n \\n \\n171 Bel Marin Keys Blvd., Novato, CA  94949    Dog Breed Characteristics & Behavior  \\nLike us at :   Page 6 of 7 \\n \\nProtection Breeds : Most protection dogs were originally bred to be \\nherding dogs or flock guards. They are now used for a variety of \\npurposes including police work a nd guarding homes and property.  \\n• Akita  \\n• Rottweiler  \\n• Doberman Pinscher  \\n• Bull Mastiff and Masti ff \\n• Great Dane  \\n• Boxer  \\n• Giant Schnauzer  \\n• German Shepherd ( also does protection work ) \\n• Rhodesian Ridgeback ( also does protection work ) \\n \\nFlock Guards and Mountain Dogs : Flock guardians were bred to protect \\nherds of sheep from predators. Many were bred to be white in color so \\nthey would blend in with their flock. These dogs tend to be protective \\nof their families and are fearless. The Mountain Dogs are closely related \\nto the flock guards. All these dogs are heavy boned and large. Both \\ntypes will want to wander beyond their home base. (Please review  our \\nhandout on Escape Artists .) \\nFlock Guard breeds : \\n• Great Pyranees  \\n• Komondor  \\n• Kuvasz  Mountain Dog breeds : \\n• St. Bernard  \\n• Newfoundland  \\n• Bernese Mountain Dog  \\n \\n \\n \\n \\n \\n \\n \\n \\n \\n  \\n'), (6, 10328, ' \\n  \\n Behavior & Training  \\n 415.506.6 280 \\n Available B&T Services  \\n \\n \\n171 Bel Marin Keys Blvd., Novato, CA  94949    Dog Breed Characteristics & Behavior  \\nLike us at :   Page 7 of 7 \\nTraining Resources : \\nMarin Humane ’s Behavior & Training  conducts various training classes. Sign up on our Behavior & Training  \\npage  for the next available class series . \\n \\nWe also provide Dog Training Instructors  and Consultants  available for private training or consultations \\n(on-site or in -home) at 415.506.6280 or OhBeHAVE@MarinHumane.org . \\n \\nRemember to license your dog  (It’s the LAW) !  If your dog gets lost, a license tag on your d og’s collar is the \\nfastest way to reunite you and your dog. Even if your dog is microchipped, a license tag is immediately \\nvisible and doesn’t require a scanning device to read . For more information about licensing, microchipping, \\nand other services provid ed by  Marin Humane , visit us at MarinHumane.org  or stop by at 171 Bel Marin \\nKeys Blvd, Novato, CA.  ')]}\n"
     ]
    }
   ],
   "source": [
    "import time\n",
    "\n",
    "from pdf import parse_pdf\n",
    "\n",
    "# Currently this utility only uses pypdf. For more serious stuff you should use Azure Document Intelligence or similar service.\n",
    "\n",
    "docs_pages_map = dict()\n",
    "for doc in doc_names:\n",
    "    print(\"Processing \",doc)\n",
    "    start_time = time.time()\n",
    "    \n",
    "    doc_map = parse_pdf(file=local_folder+doc)\n",
    "    docs_pages_map[doc]= doc_map\n",
    "    \n",
    "    # Capture the end time and Calculate the elapsed time\n",
    "    end_time = time.time()\n",
    "    elapsed_time = end_time - start_time\n",
    "\n",
    "    print(f\"Processed {len(doc_map)} pages in {elapsed_time:.6f} seconds\\n\")\n",
    "    \n",
    "print(docs_pages_map)"
   ]
  },
  {
   "cell_type": "markdown",
   "metadata": {},
   "source": [
    "## Load documents to Neo4J.\n",
    "Parse the docs with LLM to extract the graph.\n",
    "This will take some time. Later we store the graph into pickle,so that you don't need to do this all the time."
   ]
  },
  {
   "cell_type": "code",
   "execution_count": 9,
   "metadata": {},
   "outputs": [
    {
     "name": "stderr",
     "output_type": "stream",
     "text": [
      "  0%|          | 0/7 [00:00<?, ?it/s]"
     ]
    },
    {
     "name": "stdout",
     "output_type": "stream",
     "text": [
      "\u001b[32;1m\u001b[1;3m[chain/start]\u001b[0m \u001b[1m[1:chain:AgentExecutor] Entering Chain run with input:\n",
      "\u001b[0m{\n",
      "  \"input\": \"Behavior & Training  \\n 415.506.6 280 \\n Available B&T Services  \\n \\n \\n171 Bel Marin Keys Blvd., Novato, CA  94949    Dog Breed Characteristics & Behavior  \\nLike us at :   Page 1 of 7 \\nDog Breed Characteristics & Behavior  \\n \\nWhy is it important to know about the characteristics and behavior of different breeds?  \\nAll dogs are individuals and have their own personalities. At the same time, different breeds tend to also \\nhave certain characteristics that help define that particular breed. This information can be helpful to you \\nwhen you are choosing a  dog or trying to understand his  behavior.  \\n \\nThe AKC (American Kennel Club) places dog breeds within seven different groups. In order to ac count for \\nthe different behaviors within a particular group, some groups can be further subdivided into families.  \\n \\nHerding group:  \\nBreeds in this group were bred to herd sheep and cattle. They do this by stalking and staring, barking \\nand/or nipping at their  charges. They are bred to be intelli gent, athletic and diligent and  they are very \\ntrainable. Dogs from this group will do best with lots of exercise. They do even better if they have a job \\nsuch as agility where they can use their natural athletic ability to navigate an agility course. Barking can be \\na problem if they are bored and they may attempt to “herd” their people -pack by nipping and chasing.  \\n \\nCharacteristics : \\n Alert  \\n Smart  \\n Independent  \\n Confident  \\n Trainable  \\n Loyal  \\n Affectionate  \\n Herding breeds : \\n Collies  \\n Sheepdogs  \\n Cattle dogs  \\n Corgis  \\n Shepherds  \\n Belgian Malinois  \\n Belgian Tervuren\"\n",
      "}\n",
      "\n",
      "\n",
      "\u001b[1m> Entering new AgentExecutor chain...\u001b[0m\n",
      "\u001b[32;1m\u001b[1;3m\n",
      "Invoking: `knowledge_graph` with `{'object': {'nodes': [{'id': 'HerdingGroup', 'type': 'BreedingGroup', 'properties': [{'key': 'description', 'value': 'Breeds in this group were bred to herd sheep and cattle.'}]}, {'id': 'Alert', 'type': 'Characteristic'}, {'id': 'Smart', 'type': 'Characteristic'}, {'id': 'Independent', 'type': 'Characteristic'}, {'id': 'Confident', 'type': 'Characteristic'}, {'id': 'Trainable', 'type': 'Characteristic'}, {'id': 'Loyal', 'type': 'Characteristic'}, {'id': 'Affectionate', 'type': 'Characteristic'}, {'id': 'Collies', 'type': 'Breed'}, {'id': 'Sheepdogs', 'type': 'Breed'}, {'id': 'CattleDogs', 'type': 'Breed'}, {'id': 'Corgis', 'type': 'Breed'}, {'id': 'Shepherds', 'type': 'Breed'}, {'id': 'BelgianMalinois', 'type': 'Breed'}, {'id': 'BelgianTervuren', 'type': 'Breed'}], 'rels': [{'source': 'Collies', 'target': 'HerdingGroup', 'type': 'belongsTo'}, {'source': 'Sheepdogs', 'target': 'HerdingGroup', 'type': 'belongsTo'}, {'source': 'CattleDogs', 'target': 'HerdingGroup', 'type': 'belongsTo'}, {'source': 'Corgis', 'target': 'HerdingGroup', 'type': 'belongsTo'}, {'source': 'Shepherds', 'target': 'HerdingGroup', 'type': 'belongsTo'}, {'source': 'BelgianMalinois', 'target': 'HerdingGroup', 'type': 'belongsTo'}, {'source': 'BelgianTervuren', 'target': 'HerdingGroup', 'type': 'belongsTo'}, {'source': 'HerdingGroup', 'target': 'Alert', 'type': 'hasCharacteristic'}, {'source': 'HerdingGroup', 'target': 'Smart', 'type': 'hasCharacteristic'}, {'source': 'HerdingGroup', 'target': 'Independent', 'type': 'hasCharacteristic'}, {'source': 'HerdingGroup', 'target': 'Confident', 'type': 'hasCharacteristic'}, {'source': 'HerdingGroup', 'target': 'Trainable', 'type': 'hasCharacteristic'}, {'source': 'HerdingGroup', 'target': 'Loyal', 'type': 'hasCharacteristic'}, {'source': 'HerdingGroup', 'target': 'Affectionate', 'type': 'hasCharacteristic'}]}}`\n",
      "\n",
      "\n",
      "\u001b[0m\u001b[36;1m\u001b[1;3mnodes=[Node(id='HerdingGroup', type='BreedingGroup', properties=[Property(key='description', value='Breeds in this group were bred to herd sheep and cattle.')]), Node(id='Alert', type='Characteristic', properties=None), Node(id='Smart', type='Characteristic', properties=None), Node(id='Independent', type='Characteristic', properties=None), Node(id='Confident', type='Characteristic', properties=None), Node(id='Trainable', type='Characteristic', properties=None), Node(id='Loyal', type='Characteristic', properties=None), Node(id='Affectionate', type='Characteristic', properties=None), Node(id='Collies', type='Breed', properties=None), Node(id='Sheepdogs', type='Breed', properties=None), Node(id='CattleDogs', type='Breed', properties=None), Node(id='Corgis', type='Breed', properties=None), Node(id='Shepherds', type='Breed', properties=None), Node(id='BelgianMalinois', type='Breed', properties=None), Node(id='BelgianTervuren', type='Breed', properties=None)] rels=[Relationship(source='Collies', target='HerdingGroup', type='belongsTo', properties=None), Relationship(source='Sheepdogs', target='HerdingGroup', type='belongsTo', properties=None), Relationship(source='CattleDogs', target='HerdingGroup', type='belongsTo', properties=None), Relationship(source='Corgis', target='HerdingGroup', type='belongsTo', properties=None), Relationship(source='Shepherds', target='HerdingGroup', type='belongsTo', properties=None), Relationship(source='BelgianMalinois', target='HerdingGroup', type='belongsTo', properties=None), Relationship(source='BelgianTervuren', target='HerdingGroup', type='belongsTo', properties=None), Relationship(source='HerdingGroup', target='Alert', type='hasCharacteristic', properties=None), Relationship(source='HerdingGroup', target='Smart', type='hasCharacteristic', properties=None), Relationship(source='HerdingGroup', target='Independent', type='hasCharacteristic', properties=None), Relationship(source='HerdingGroup', target='Confident', type='hasCharacteristic', properties=None), Relationship(source='HerdingGroup', target='Trainable', type='hasCharacteristic', properties=None), Relationship(source='HerdingGroup', target='Loyal', type='hasCharacteristic', properties=None), Relationship(source='HerdingGroup', target='Affectionate', type='hasCharacteristic', properties=None)]\u001b[0m"
     ]
    },
    {
     "name": "stderr",
     "output_type": "stream",
     "text": [
      " 14%|█▍        | 1/7 [01:49<10:58, 109.75s/it]"
     ]
    },
    {
     "name": "stdout",
     "output_type": "stream",
     "text": [
      "\u001b[32;1m\u001b[1;3mThe knowledge graph has been successfully constructed with the following nodes and relationships:\n",
      "\n",
      "### Nodes:\n",
      "1. **BreedingGroup**: HerdingGroup\n",
      "   - *description*: Breeds in this group were bred to herd sheep and cattle.\n",
      "2. **Characteristic**: Alert\n",
      "3. **Characteristic**: Smart\n",
      "4. **Characteristic**: Independent\n",
      "5. **Characteristic**: Confident\n",
      "6. **Characteristic**: Trainable\n",
      "7. **Characteristic**: Loyal\n",
      "8. **Characteristic**: Affectionate\n",
      "9. **Breed**: Collies\n",
      "10. **Breed**: Sheepdogs\n",
      "11. **Breed**: CattleDogs\n",
      "12. **Breed**: Corgis\n",
      "13. **Breed**: Shepherds\n",
      "14. **Breed**: BelgianMalinois\n",
      "15. **Breed**: BelgianTervuren\n",
      "\n",
      "### Relationships:\n",
      "- **Collies** belongsTo **HerdingGroup**\n",
      "- **Sheepdogs** belongsTo **HerdingGroup**\n",
      "- **CattleDogs** belongsTo **HerdingGroup**\n",
      "- **Corgis** belongsTo **HerdingGroup**\n",
      "- **Shepherds** belongsTo **HerdingGroup**\n",
      "- **BelgianMalinois** belongsTo **HerdingGroup**\n",
      "- **BelgianTervuren** belongsTo **HerdingGroup**\n",
      "- **HerdingGroup** hasCharacteristic **Alert**\n",
      "- **HerdingGroup** hasCharacteristic **Smart**\n",
      "- **HerdingGroup** hasCharacteristic **Independent**\n",
      "- **HerdingGroup** hasCharacteristic **Confident**\n",
      "- **HerdingGroup** hasCharacteristic **Trainable**\n",
      "- **HerdingGroup** hasCharacteristic **Loyal**\n",
      "- **HerdingGroup** hasCharacteristic **Affectionate**\n",
      "\n",
      "This graph represents the relationship between the Herding group of dog breeds and their common characteristics. Each breed within this group shares these characteristics, which are integral to their behavior and abilities.\u001b[0m\n",
      "\u001b[36;1m\u001b[1;3m[chain/end]\u001b[0m \u001b[1m[1:chain:AgentExecutor] [109.75s] Exiting Chain run with output:\n",
      "\u001b[0m{\n",
      "  \"output\": \"The knowledge graph has been successfully constructed with the following nodes and relationships:\\n\\n### Nodes:\\n1. **BreedingGroup**: HerdingGroup\\n   - *description*: Breeds in this group were bred to herd sheep and cattle.\\n2. **Characteristic**: Alert\\n3. **Characteristic**: Smart\\n4. **Characteristic**: Independent\\n5. **Characteristic**: Confident\\n6. **Characteristic**: Trainable\\n7. **Characteristic**: Loyal\\n8. **Characteristic**: Affectionate\\n9. **Breed**: Collies\\n10. **Breed**: Sheepdogs\\n11. **Breed**: CattleDogs\\n12. **Breed**: Corgis\\n13. **Breed**: Shepherds\\n14. **Breed**: BelgianMalinois\\n15. **Breed**: BelgianTervuren\\n\\n### Relationships:\\n- **Collies** belongsTo **HerdingGroup**\\n- **Sheepdogs** belongsTo **HerdingGroup**\\n- **CattleDogs** belongsTo **HerdingGroup**\\n- **Corgis** belongsTo **HerdingGroup**\\n- **Shepherds** belongsTo **HerdingGroup**\\n- **BelgianMalinois** belongsTo **HerdingGroup**\\n- **BelgianTervuren** belongsTo **HerdingGroup**\\n- **HerdingGroup** hasCharacteristic **Alert**\\n- **HerdingGroup** hasCharacteristic **Smart**\\n- **HerdingGroup** hasCharacteristic **Independent**\\n- **HerdingGroup** hasCharacteristic **Confident**\\n- **HerdingGroup** hasCharacteristic **Trainable**\\n- **HerdingGroup** hasCharacteristic **Loyal**\\n- **HerdingGroup** hasCharacteristic **Affectionate**\\n\\nThis graph represents the relationship between the Herding group of dog breeds and their common characteristics. Each breed within this group shares these characteristics, which are integral to their behavior and abilities.\"\n",
      "}\n",
      "\n",
      "\u001b[1m> Finished chain.\u001b[0m\n",
      "\u001b[32;1m\u001b[1;3m[chain/start]\u001b[0m \u001b[1m[1:chain:AgentExecutor] Entering Chain run with input:\n",
      "\u001b[0m{\n",
      "  \"input\": \"Behavior & Training  \\n 415.506.6 280 \\n Available B&T Services  \\n \\n \\n171 Bel Marin Keys Blvd., Novato, CA  94949    Dog Breed Characteristics & Behavior  \\nLike us at :   Page 2 of 7 \\nHound group : \\nHounds were originally bred to hunt. Though not used to hunt as much now, the instinct is still strong in \\nthem. They will have a strong prey drive and will want to chase down small animals. Sighthounds can run \\nforever and need off leash opportunities in sa fe, enclosed areas.  \\n \\nCharacteristics : \\n Independent  \\n Sweet  \\n Intelligent  \\n Affectionate  \\n \\nFamilies within the hound group : \\nSight hounds : Sight hounds were bred to find and chase down larger animals such as deer and elk. \\nSight hounds are long and lean  and have excellent vision . \\nSighthounds can  run for a long stretch, but they are basically \\nsprinters . They run until they catch their prey,  and then stop \\nfor a rest . In many parts of the world sighthounds are still used \\nto hunt . They may not be interested in obedience work and can \\nbe hard to train.   \\n \\n• Afghan  \\n• Saluki  \\n• Ibizan  \\n• Pharoah  \\n• Greyhound  \\n• Whippet  \\n• Italian Greyhound  \\n• Rhodesian Ridgeback (a sight & scent hound )  \\n \\nScent hounds : Scent hounds are usually smaller than the sight hounds. They were bred to chase \\nsmaller prey to the ground. They have an incredible sense of smell and they typically have long ears. \\nBloodhounds and Bassets have ears that can scrape the ground when they are sniffing, and so stir up \\neven more smells. Scent hounds are forever in search o f a scent and will run away from you if a scent \\nbeckons.  \\n• Beagle  \\n• Basset Hound  \\n• Bloodhound  \\n• Otterhound  \\n• Fox Hounds\"\n",
      "}\n",
      "\n",
      "\n",
      "\u001b[1m> Entering new AgentExecutor chain...\u001b[0m\n",
      "\u001b[32;1m\u001b[1;3m\n",
      "Invoking: `knowledge_graph` with `{'object': {'nodes': [{'id': 'HoundGroup', 'type': 'BreedingGroup', 'properties': [{'key': 'description', 'value': 'Originally bred to hunt, strong prey drive, want to chase down small animals.'}]}, {'id': 'Sighthounds', 'type': 'Breed', 'properties': [{'key': 'description', 'value': 'Bred to find and chase down larger animals such as deer and elk, long and lean, excellent vision, run for a long stretch but are basically sprinters.'}]}, {'id': 'ScentHounds', 'type': 'Breed', 'properties': [{'key': 'description', 'value': 'Usually smaller than sighthounds, bred to chase smaller prey to the ground, incredible sense of smell, long ears.'}]}, {'id': 'Independent', 'type': 'Characteristic'}, {'id': 'Sweet', 'type': 'Characteristic'}, {'id': 'Intelligent', 'type': 'Characteristic'}, {'id': 'Affectionate', 'type': 'Characteristic'}, {'id': 'Afghan', 'type': 'Breed'}, {'id': 'Saluki', 'type': 'Breed'}, {'id': 'Ibizan', 'type': 'Breed'}, {'id': 'Pharoah', 'type': 'Breed'}, {'id': 'Greyhound', 'type': 'Breed'}, {'id': 'Whippet', 'type': 'Breed'}, {'id': 'ItalianGreyhound', 'type': 'Breed'}, {'id': 'RhodesianRidgeback', 'type': 'Breed', 'properties': [{'key': 'note', 'value': 'A sight & scent hound.'}]}, {'id': 'Beagle', 'type': 'Breed'}, {'id': 'BassetHound', 'type': 'Breed'}, {'id': 'Bloodhound', 'type': 'Breed'}, {'id': 'Otterhound', 'type': 'Breed'}, {'id': 'FoxHounds', 'type': 'Breed'}], 'rels': [{'source': 'HoundGroup', 'target': 'Independent', 'type': 'hasCharacteristic'}, {'source': 'HoundGroup', 'target': 'Sweet', 'type': 'hasCharacteristic'}, {'source': 'HoundGroup', 'target': 'Intelligent', 'type': 'hasCharacteristic'}, {'source': 'HoundGroup', 'target': 'Affectionate', 'type': 'hasCharacteristic'}, {'source': 'Sighthounds', 'target': 'Afghan', 'type': 'includesBreed'}, {'source': 'Sighthounds', 'target': 'Saluki', 'type': 'includesBreed'}, {'source': 'Sighthounds', 'target': 'Ibizan', 'type': 'includesBreed'}, {'source': 'Sighthounds', 'target': 'Pharoah', 'type': 'includesBreed'}, {'source': 'Sighthounds', 'target': 'Greyhound', 'type': 'includesBreed'}, {'source': 'Sighthounds', 'target': 'Whippet', 'type': 'includesBreed'}, {'source': 'Sighthounds', 'target': 'ItalianGreyhound', 'type': 'includesBreed'}, {'source': 'Sighthounds', 'target': 'RhodesianRidgeback', 'type': 'includesBreed'}, {'source': 'ScentHounds', 'target': 'Beagle', 'type': 'includesBreed'}, {'source': 'ScentHounds', 'target': 'BassetHound', 'type': 'includesBreed'}, {'source': 'ScentHounds', 'target': 'Bloodhound', 'type': 'includesBreed'}, {'source': 'ScentHounds', 'target': 'Otterhound', 'type': 'includesBreed'}, {'source': 'ScentHounds', 'target': 'FoxHounds', 'type': 'includesBreed'}]}}`\n",
      "\n",
      "\n",
      "\u001b[0m\u001b[36;1m\u001b[1;3mnodes=[Node(id='HoundGroup', type='BreedingGroup', properties=[Property(key='description', value='Originally bred to hunt, strong prey drive, want to chase down small animals.')]), Node(id='Sighthounds', type='Breed', properties=[Property(key='description', value='Bred to find and chase down larger animals such as deer and elk, long and lean, excellent vision, run for a long stretch but are basically sprinters.')]), Node(id='ScentHounds', type='Breed', properties=[Property(key='description', value='Usually smaller than sighthounds, bred to chase smaller prey to the ground, incredible sense of smell, long ears.')]), Node(id='Independent', type='Characteristic', properties=None), Node(id='Sweet', type='Characteristic', properties=None), Node(id='Intelligent', type='Characteristic', properties=None), Node(id='Affectionate', type='Characteristic', properties=None), Node(id='Afghan', type='Breed', properties=None), Node(id='Saluki', type='Breed', properties=None), Node(id='Ibizan', type='Breed', properties=None), Node(id='Pharoah', type='Breed', properties=None), Node(id='Greyhound', type='Breed', properties=None), Node(id='Whippet', type='Breed', properties=None), Node(id='ItalianGreyhound', type='Breed', properties=None), Node(id='RhodesianRidgeback', type='Breed', properties=[Property(key='note', value='A sight & scent hound.')]), Node(id='Beagle', type='Breed', properties=None), Node(id='BassetHound', type='Breed', properties=None), Node(id='Bloodhound', type='Breed', properties=None), Node(id='Otterhound', type='Breed', properties=None), Node(id='FoxHounds', type='Breed', properties=None)] rels=[Relationship(source='HoundGroup', target='Independent', type='hasCharacteristic', properties=None), Relationship(source='HoundGroup', target='Sweet', type='hasCharacteristic', properties=None), Relationship(source='HoundGroup', target='Intelligent', type='hasCharacteristic', properties=None), Relationship(source='HoundGroup', target='Affectionate', type='hasCharacteristic', properties=None), Relationship(source='Sighthounds', target='Afghan', type='includesBreed', properties=None), Relationship(source='Sighthounds', target='Saluki', type='includesBreed', properties=None), Relationship(source='Sighthounds', target='Ibizan', type='includesBreed', properties=None), Relationship(source='Sighthounds', target='Pharoah', type='includesBreed', properties=None), Relationship(source='Sighthounds', target='Greyhound', type='includesBreed', properties=None), Relationship(source='Sighthounds', target='Whippet', type='includesBreed', properties=None), Relationship(source='Sighthounds', target='ItalianGreyhound', type='includesBreed', properties=None), Relationship(source='Sighthounds', target='RhodesianRidgeback', type='includesBreed', properties=None), Relationship(source='ScentHounds', target='Beagle', type='includesBreed', properties=None), Relationship(source='ScentHounds', target='BassetHound', type='includesBreed', properties=None), Relationship(source='ScentHounds', target='Bloodhound', type='includesBreed', properties=None), Relationship(source='ScentHounds', target='Otterhound', type='includesBreed', properties=None), Relationship(source='ScentHounds', target='FoxHounds', type='includesBreed', properties=None)]\u001b[0m"
     ]
    },
    {
     "name": "stderr",
     "output_type": "stream",
     "text": [
      " 29%|██▊       | 2/7 [04:48<12:31, 150.20s/it]"
     ]
    },
    {
     "name": "stdout",
     "output_type": "stream",
     "text": [
      "\u001b[32;1m\u001b[1;3mThe knowledge graph has been successfully created with the following structure:\n",
      "\n",
      "### Nodes:\n",
      "1. **BreedingGroup**: HoundGroup\n",
      "   - *description*: Originally bred to hunt, strong prey drive, want to chase down small animals.\n",
      "2. **Breed**: Sighthounds\n",
      "   - *description*: Bred to find and chase down larger animals such as deer and elk, long and lean, excellent vision, run for a long stretch but are basically sprinters.\n",
      "3. **Breed**: ScentHounds\n",
      "   - *description*: Usually smaller than sighthounds, bred to chase smaller prey to the ground, incredible sense of smell, long ears.\n",
      "4. **Characteristic**: Independent\n",
      "5. **Characteristic**: Sweet\n",
      "6. **Characteristic**: Intelligent\n",
      "7. **Characteristic**: Affectionate\n",
      "8. **Breed**: Afghan\n",
      "9. **Breed**: Saluki\n",
      "10. **Breed**: Ibizan\n",
      "11. **Breed**: Pharoah\n",
      "12. **Breed**: Greyhound\n",
      "13. **Breed**: Whippet\n",
      "14. **Breed**: ItalianGreyhound\n",
      "15. **Breed**: RhodesianRidgeback\n",
      "    - *note*: A sight & scent hound.\n",
      "16. **Breed**: Beagle\n",
      "17. **Breed**: BassetHound\n",
      "18. **Breed**: Bloodhound\n",
      "19. **Breed**: Otterhound\n",
      "20. **Breed**: FoxHounds\n",
      "\n",
      "### Relationships:\n",
      "- HoundGroup hasCharacteristic Independent\n",
      "- HoundGroup hasCharacteristic Sweet\n",
      "- HoundGroup hasCharacteristic Intelligent\n",
      "- HoundGroup hasCharacteristic Affectionate\n",
      "- Sighthounds includesBreed Afghan\n",
      "- Sighthounds includesBreed Saluki\n",
      "- Sighthounds includesBreed Ibizan\n",
      "- Sighthounds includesBreed Pharoah\n",
      "- Sighthounds includesBreed Greyhound\n",
      "- Sighthounds includesBreed Whippet\n",
      "- Sighthounds includesBreed ItalianGreyhound\n",
      "- Sighthounds includesBreed RhodesianRidgeback\n",
      "- ScentHounds includesBreed Beagle\n",
      "- ScentHounds includesBreed BassetHound\n",
      "- ScentHounds includesBreed Bloodhound\n",
      "- ScentHounds includesBreed Otterhound\n",
      "- ScentHounds includesBreed FoxHounds\n",
      "\n",
      "This graph represents the relationships between different dog breeds, particularly within the hound group, and their characteristics.\u001b[0m\n",
      "\u001b[36;1m\u001b[1;3m[chain/end]\u001b[0m \u001b[1m[1:chain:AgentExecutor] [178.51s] Exiting Chain run with output:\n",
      "\u001b[0m{\n",
      "  \"output\": \"The knowledge graph has been successfully created with the following structure:\\n\\n### Nodes:\\n1. **BreedingGroup**: HoundGroup\\n   - *description*: Originally bred to hunt, strong prey drive, want to chase down small animals.\\n2. **Breed**: Sighthounds\\n   - *description*: Bred to find and chase down larger animals such as deer and elk, long and lean, excellent vision, run for a long stretch but are basically sprinters.\\n3. **Breed**: ScentHounds\\n   - *description*: Usually smaller than sighthounds, bred to chase smaller prey to the ground, incredible sense of smell, long ears.\\n4. **Characteristic**: Independent\\n5. **Characteristic**: Sweet\\n6. **Characteristic**: Intelligent\\n7. **Characteristic**: Affectionate\\n8. **Breed**: Afghan\\n9. **Breed**: Saluki\\n10. **Breed**: Ibizan\\n11. **Breed**: Pharoah\\n12. **Breed**: Greyhound\\n13. **Breed**: Whippet\\n14. **Breed**: ItalianGreyhound\\n15. **Breed**: RhodesianRidgeback\\n    - *note*: A sight & scent hound.\\n16. **Breed**: Beagle\\n17. **Breed**: BassetHound\\n18. **Breed**: Bloodhound\\n19. **Breed**: Otterhound\\n20. **Breed**: FoxHounds\\n\\n### Relationships:\\n- HoundGroup hasCharacteristic Independent\\n- HoundGroup hasCharacteristic Sweet\\n- HoundGroup hasCharacteristic Intelligent\\n- HoundGroup hasCharacteristic Affectionate\\n- Sighthounds includesBreed Afghan\\n- Sighthounds includesBreed Saluki\\n- Sighthounds includesBreed Ibizan\\n- Sighthounds includesBreed Pharoah\\n- Sighthounds includesBreed Greyhound\\n- Sighthounds includesBreed Whippet\\n- Sighthounds includesBreed ItalianGreyhound\\n- Sighthounds includesBreed RhodesianRidgeback\\n- ScentHounds includesBreed Beagle\\n- ScentHounds includesBreed BassetHound\\n- ScentHounds includesBreed Bloodhound\\n- ScentHounds includesBreed Otterhound\\n- ScentHounds includesBreed FoxHounds\\n\\nThis graph represents the relationships between different dog breeds, particularly within the hound group, and their characteristics.\"\n",
      "}\n",
      "\n",
      "\u001b[1m> Finished chain.\u001b[0m\n",
      "\u001b[32;1m\u001b[1;3m[chain/start]\u001b[0m \u001b[1m[1:chain:AgentExecutor] Entering Chain run with input:\n",
      "\u001b[0m{\n",
      "  \"input\": \"Behavior & Training  \\n 415.506.6 280 \\n Available B&T Services  \\n \\n \\n171 Bel Marin Keys Blvd., Novato, CA  94949    Dog Breed Characteristics & Behavior  \\nLike us at :   Page 3 of 7 \\nNon -Sporting Group : \\nThis is the fastest growing group and the dogs in it range  in terms of size, shape, colors, coat types, etc. \\nThey are often  dogs  who  no longer perform the duties for which they were originally bred. For example, \\nthe Dalmatian no longer accompanies carriages, the Bulldog is no longer a bull baiter and the Poodle is no \\nlonger a water -hunting dog. Their temperaments are as varied  as their looks. This is the group where many \\nof our “companion” animals come from.  \\n \\nCharacteristics : \\n Playful  \\n Smart  \\n Curious  \\n Friendly  \\n Loyal  \\n Eager  \\n Non sporting breeds : \\n American Eskimo  \\n Boston Terrier  \\n Bulldogs  \\n Shar -Pei \\n Chow Chow  \\n Dalmation  \\n Keeshond  \\n Poodle  \\n Shiba -Inu \\n Lhasa Apso  \\n Tibetan Terrier  \\n \\nSporting group:  \\nThese dogs were originally bred to assist hunters in finding, pointing, flushing and retrieving game. Many \\nstill perform those jobs for hunters . They are loyal and trainable. The se dogs can also be successful  therapy \\ndogs, assistance dogs and search/rescue dogs. They are generally very athletic, active and strong and will \\nneed plenty of exercise, and maybe even a job such as agility or fly ball. If these dogs don’t g et adequate \\ndaily exercise they can become frustrated and destructive.  \\n \\nCharacteristics : \\n Happy  \\n Eager  \\n Trainable   Bright  \\n Friendly   Confident  \\n Lovable  \\n \\nFamilies within the sporting group : \\nRetrievers : Retrievers are trained to go and get “it” and bring “it” back. “It” can be on land or in the \\nwater. Retrievers are usually outgoing, good natured and very energetic.  \\n• Flat Coated and Curly Coated  \\n• Labrador and Golden  \\n• Chesapeake Bay (not as \\nfriendly and ou tgoing as they \\nwere also used as guard dogs)\"\n",
      "}\n",
      "\n",
      "\n",
      "\u001b[1m> Entering new AgentExecutor chain...\u001b[0m\n",
      "\u001b[32;1m\u001b[1;3m\n",
      "Invoking: `knowledge_graph` with `{'object': {'nodes': [{'id': 'NonSportingGroup', 'type': 'BreedingGroup', 'properties': [{'key': 'description', 'value': 'Fastest growing group with varied sizes, shapes, colors, coat types. Often companion animals.'}]}, {'id': 'Playful', 'type': 'Characteristic'}, {'id': 'Smart', 'type': 'Characteristic'}, {'id': 'Curious', 'type': 'Characteristic'}, {'id': 'Friendly', 'type': 'Characteristic'}, {'id': 'Loyal', 'type': 'Characteristic'}, {'id': 'Eager', 'type': 'Characteristic'}, {'id': 'AmericanEskimo', 'type': 'Breed'}, {'id': 'BostonTerrier', 'type': 'Breed'}, {'id': 'Bulldogs', 'type': 'Breed'}, {'id': 'SharPei', 'type': 'Breed'}, {'id': 'ChowChow', 'type': 'Breed'}, {'id': 'Dalmation', 'type': 'Breed'}, {'id': 'Keeshond', 'type': 'Breed'}, {'id': 'Poodle', 'type': 'Breed'}, {'id': 'ShibaInu', 'type': 'Breed'}, {'id': 'LhasaApso', 'type': 'Breed'}, {'id': 'TibetanTerrier', 'type': 'Breed'}, {'id': 'SportingGroup', 'type': 'BreedingGroup', 'properties': [{'key': 'description', 'value': 'Originally bred to assist hunters. Loyal, trainable, athletic, active, strong, need exercise.'}]}, {'id': 'Happy', 'type': 'Characteristic'}, {'id': 'Trainable', 'type': 'Characteristic'}, {'id': 'Bright', 'type': 'Characteristic'}, {'id': 'Confident', 'type': 'Characteristic'}, {'id': 'Lovable', 'type': 'Characteristic'}, {'id': 'Retrievers', 'type': 'BreedingGroup', 'properties': [{'key': 'description', 'value': 'Trained to retrieve on land or water. Outgoing, good natured, energetic.'}]}, {'id': 'FlatCoated', 'type': 'Breed'}, {'id': 'CurlyCoated', 'type': 'Breed'}, {'id': 'Labrador', 'type': 'Breed'}, {'id': 'Golden', 'type': 'Breed'}, {'id': 'ChesapeakeBay', 'type': 'Breed', 'properties': [{'key': 'description', 'value': 'Not as friendly and outgoing, also used as guard dogs.'}]}], 'rels': [{'source': 'NonSportingGroup', 'target': 'Playful', 'type': 'hasCharacteristic'}, {'source': 'NonSportingGroup', 'target': 'Smart', 'type': 'hasCharacteristic'}, {'source': 'NonSportingGroup', 'target': 'Curious', 'type': 'hasCharacteristic'}, {'source': 'NonSportingGroup', 'target': 'Friendly', 'type': 'hasCharacteristic'}, {'source': 'NonSportingGroup', 'target': 'Loyal', 'type': 'hasCharacteristic'}, {'source': 'NonSportingGroup', 'target': 'Eager', 'type': 'hasCharacteristic'}, {'source': 'SportingGroup', 'target': 'Happy', 'type': 'hasCharacteristic'}, {'source': 'SportingGroup', 'target': 'Eager', 'type': 'hasCharacteristic'}, {'source': 'SportingGroup', 'target': 'Trainable', 'type': 'hasCharacteristic'}, {'source': 'SportingGroup', 'target': 'Bright', 'type': 'hasCharacteristic'}, {'source': 'SportingGroup', 'target': 'Friendly', 'type': 'hasCharacteristic'}, {'source': 'SportingGroup', 'target': 'Confident', 'type': 'hasCharacteristic'}, {'source': 'SportingGroup', 'target': 'Lovable', 'type': 'hasCharacteristic'}, {'source': 'Retrievers', 'target': 'Happy', 'type': 'hasCharacteristic'}, {'source': 'Retrievers', 'target': 'Eager', 'type': 'hasCharacteristic'}, {'source': 'Retrievers', 'target': 'Trainable', 'type': 'hasCharacteristic'}, {'source': 'Retrievers', 'target': 'Bright', 'type': 'hasCharacteristic'}, {'source': 'Retrievers', 'target': 'Friendly', 'type': 'hasCharacteristic'}, {'source': 'Retrievers', 'target': 'Confident', 'type': 'hasCharacteristic'}, {'source': 'Retrievers', 'target': 'Lovable', 'type': 'hasCharacteristic'}]}}`\n",
      "\n",
      "\n",
      "\u001b[0m\u001b[36;1m\u001b[1;3mnodes=[Node(id='NonSportingGroup', type='BreedingGroup', properties=[Property(key='description', value='Fastest growing group with varied sizes, shapes, colors, coat types. Often companion animals.')]), Node(id='Playful', type='Characteristic', properties=None), Node(id='Smart', type='Characteristic', properties=None), Node(id='Curious', type='Characteristic', properties=None), Node(id='Friendly', type='Characteristic', properties=None), Node(id='Loyal', type='Characteristic', properties=None), Node(id='Eager', type='Characteristic', properties=None), Node(id='AmericanEskimo', type='Breed', properties=None), Node(id='BostonTerrier', type='Breed', properties=None), Node(id='Bulldogs', type='Breed', properties=None), Node(id='SharPei', type='Breed', properties=None), Node(id='ChowChow', type='Breed', properties=None), Node(id='Dalmation', type='Breed', properties=None), Node(id='Keeshond', type='Breed', properties=None), Node(id='Poodle', type='Breed', properties=None), Node(id='ShibaInu', type='Breed', properties=None), Node(id='LhasaApso', type='Breed', properties=None), Node(id='TibetanTerrier', type='Breed', properties=None), Node(id='SportingGroup', type='BreedingGroup', properties=[Property(key='description', value='Originally bred to assist hunters. Loyal, trainable, athletic, active, strong, need exercise.')]), Node(id='Happy', type='Characteristic', properties=None), Node(id='Trainable', type='Characteristic', properties=None), Node(id='Bright', type='Characteristic', properties=None), Node(id='Confident', type='Characteristic', properties=None), Node(id='Lovable', type='Characteristic', properties=None), Node(id='Retrievers', type='BreedingGroup', properties=[Property(key='description', value='Trained to retrieve on land or water. Outgoing, good natured, energetic.')]), Node(id='FlatCoated', type='Breed', properties=None), Node(id='CurlyCoated', type='Breed', properties=None), Node(id='Labrador', type='Breed', properties=None), Node(id='Golden', type='Breed', properties=None), Node(id='ChesapeakeBay', type='Breed', properties=[Property(key='description', value='Not as friendly and outgoing, also used as guard dogs.')])] rels=[Relationship(source='NonSportingGroup', target='Playful', type='hasCharacteristic', properties=None), Relationship(source='NonSportingGroup', target='Smart', type='hasCharacteristic', properties=None), Relationship(source='NonSportingGroup', target='Curious', type='hasCharacteristic', properties=None), Relationship(source='NonSportingGroup', target='Friendly', type='hasCharacteristic', properties=None), Relationship(source='NonSportingGroup', target='Loyal', type='hasCharacteristic', properties=None), Relationship(source='NonSportingGroup', target='Eager', type='hasCharacteristic', properties=None), Relationship(source='SportingGroup', target='Happy', type='hasCharacteristic', properties=None), Relationship(source='SportingGroup', target='Eager', type='hasCharacteristic', properties=None), Relationship(source='SportingGroup', target='Trainable', type='hasCharacteristic', properties=None), Relationship(source='SportingGroup', target='Bright', type='hasCharacteristic', properties=None), Relationship(source='SportingGroup', target='Friendly', type='hasCharacteristic', properties=None), Relationship(source='SportingGroup', target='Confident', type='hasCharacteristic', properties=None), Relationship(source='SportingGroup', target='Lovable', type='hasCharacteristic', properties=None), Relationship(source='Retrievers', target='Happy', type='hasCharacteristic', properties=None), Relationship(source='Retrievers', target='Eager', type='hasCharacteristic', properties=None), Relationship(source='Retrievers', target='Trainable', type='hasCharacteristic', properties=None), Relationship(source='Retrievers', target='Bright', type='hasCharacteristic', properties=None), Relationship(source='Retrievers', target='Friendly', type='hasCharacteristic', properties=None), Relationship(source='Retrievers', target='Confident', type='hasCharacteristic', properties=None), Relationship(source='Retrievers', target='Lovable', type='hasCharacteristic', properties=None)]\u001b[0m"
     ]
    },
    {
     "name": "stderr",
     "output_type": "stream",
     "text": [
      " 43%|████▎     | 3/7 [07:20<10:03, 150.93s/it]"
     ]
    },
    {
     "name": "stdout",
     "output_type": "stream",
     "text": [
      "\u001b[32;1m\u001b[1;3mThe knowledge graph has been successfully created with the following structure:\n",
      "\n",
      "### Nodes:\n",
      "1. **Breeding Groups:**\n",
      "   - NonSportingGroup: Fastest growing group with varied sizes, shapes, colors, coat types. Often companion animals.\n",
      "   - SportingGroup: Originally bred to assist hunters. Loyal, trainable, athletic, active, strong, need exercise.\n",
      "   - Retrievers: Trained to retrieve on land or water. Outgoing, good natured, energetic.\n",
      "\n",
      "2. **Characteristics:**\n",
      "   - Playful\n",
      "   - Smart\n",
      "   - Curious\n",
      "   - Friendly\n",
      "   - Loyal\n",
      "   - Eager\n",
      "   - Happy\n",
      "   - Trainable\n",
      "   - Bright\n",
      "   - Confident\n",
      "   - Lovable\n",
      "\n",
      "3. **Breeds:**\n",
      "   - American Eskimo\n",
      "   - Boston Terrier\n",
      "   - Bulldogs\n",
      "   - Shar Pei\n",
      "   - Chow Chow\n",
      "   - Dalmation\n",
      "   - Keeshond\n",
      "   - Poodle\n",
      "   - Shiba Inu\n",
      "   - Lhasa Apso\n",
      "   - Tibetan Terrier\n",
      "   - Flat Coated\n",
      "   - Curly Coated\n",
      "   - Labrador\n",
      "   - Golden\n",
      "   - Chesapeake Bay (Not as friendly and outgoing, also used as guard dogs)\n",
      "\n",
      "### Relationships:\n",
      "- **NonSportingGroup** has characteristics: Playful, Smart, Curious, Friendly, Loyal, Eager.\n",
      "- **SportingGroup** has characteristics: Happy, Eager, Trainable, Bright, Friendly, Confident, Lovable.\n",
      "- **Retrievers** (a subset of the Sporting Group) share the same characteristics as the Sporting Group.\n",
      "\n",
      "This graph represents the relationships between dog breeds, their breeding groups, and their characteristics.\u001b[0m\n",
      "\u001b[36;1m\u001b[1;3m[chain/end]\u001b[0m \u001b[1m[1:chain:AgentExecutor] [151.79s] Exiting Chain run with output:\n",
      "\u001b[0m{\n",
      "  \"output\": \"The knowledge graph has been successfully created with the following structure:\\n\\n### Nodes:\\n1. **Breeding Groups:**\\n   - NonSportingGroup: Fastest growing group with varied sizes, shapes, colors, coat types. Often companion animals.\\n   - SportingGroup: Originally bred to assist hunters. Loyal, trainable, athletic, active, strong, need exercise.\\n   - Retrievers: Trained to retrieve on land or water. Outgoing, good natured, energetic.\\n\\n2. **Characteristics:**\\n   - Playful\\n   - Smart\\n   - Curious\\n   - Friendly\\n   - Loyal\\n   - Eager\\n   - Happy\\n   - Trainable\\n   - Bright\\n   - Confident\\n   - Lovable\\n\\n3. **Breeds:**\\n   - American Eskimo\\n   - Boston Terrier\\n   - Bulldogs\\n   - Shar Pei\\n   - Chow Chow\\n   - Dalmation\\n   - Keeshond\\n   - Poodle\\n   - Shiba Inu\\n   - Lhasa Apso\\n   - Tibetan Terrier\\n   - Flat Coated\\n   - Curly Coated\\n   - Labrador\\n   - Golden\\n   - Chesapeake Bay (Not as friendly and outgoing, also used as guard dogs)\\n\\n### Relationships:\\n- **NonSportingGroup** has characteristics: Playful, Smart, Curious, Friendly, Loyal, Eager.\\n- **SportingGroup** has characteristics: Happy, Eager, Trainable, Bright, Friendly, Confident, Lovable.\\n- **Retrievers** (a subset of the Sporting Group) share the same characteristics as the Sporting Group.\\n\\nThis graph represents the relationships between dog breeds, their breeding groups, and their characteristics.\"\n",
      "}\n",
      "\n",
      "\u001b[1m> Finished chain.\u001b[0m\n",
      "\u001b[32;1m\u001b[1;3m[chain/start]\u001b[0m \u001b[1m[1:chain:AgentExecutor] Entering Chain run with input:\n",
      "\u001b[0m{\n",
      "  \"input\": \"Behavior & Training  \\n 415.506.6 280 \\n Available B&T Services  \\n \\n \\n171 Bel Marin Keys Blvd., Novato, CA  94949    Dog Breed Characteristics & Behavior  \\nLike us at :   Page 4 of 7 \\nSpaniels : Spaniels are hunting dogs who  were bred to flush or “spring” game from the bushes so the \\nhunter could shoot it. These dogs are typically energetic and fun loving and will love the game of fetch . \\nNote : Some strains of Cocker and Springer Spaniel develop a behavior problem known as “rage \\nsyndrome .” It is thought to be a form of dominant aggression or conflict behavior. It is characterized by \\nattacking and biting for no apparent reason.  \\n• American Water  \\n• Clumber  \\n• Cocker  \\n• English Cocker  \\n• English Toy  \\n• English Springer  \\n• Field  \\n• Irish Water  \\n• Japanese Chin  \\n• Sussex Tibetan  \\n• Welsh Spaniels  \\n \\nPointers and Setters : Pointers were bred to find and point to the prey animal, usually birds. They are \\nvery energetic and at times nervous but generally \\nhave happy and tolerant dispositions. Setters are \\nmore sensitive and nervous.   \\n• Vizsla  \\n• German Shorthair  \\n• Wirehaired and English Pointer  \\n• Irish, English and Gordon Setters  \\n• Weimaraner  \\n \\nTerrier Group : \\nTerriers were bred to chase after and kill vermin such as \\nrats, foxes and weasels. Tenacious and determined to \\ncatch their prey, they will also burrow into the ground \\nafter them. Some of the terriers were bred to kill rats in \\npit contests, and later to fight each other. You do need to be on yo ur toes if you are drawn to terriers!  \\n \\nCharacteristics : \\n Scrappy  \\n Energetic  \\n Independent  \\n Predatory  \\n Hardy  \\n Smart  \\n Playful  Terrier breeds : \\n Airedale  \\n Bedlington  \\n Boston  \\n Bull \\n Scottish  \\n Staffordshire  \\n Russell\"\n",
      "}\n",
      "\n",
      "\n",
      "\u001b[1m> Entering new AgentExecutor chain...\u001b[0m\n",
      "\u001b[32;1m\u001b[1;3m\n",
      "Invoking: `knowledge_graph` with `{'object': {'nodes': [{'id': 'Spaniels', 'type': 'Breed'}, {'id': 'American Water', 'type': 'Breed'}, {'id': 'Clumber', 'type': 'Breed'}, {'id': 'Cocker', 'type': 'Breed'}, {'id': 'English Cocker', 'type': 'Breed'}, {'id': 'English Toy', 'type': 'Breed'}, {'id': 'English Springer', 'type': 'Breed'}, {'id': 'Field', 'type': 'Breed'}, {'id': 'Irish Water', 'type': 'Breed'}, {'id': 'Japanese Chin', 'type': 'Breed'}, {'id': 'Sussex', 'type': 'Breed'}, {'id': 'Tibetan', 'type': 'Breed'}, {'id': 'Welsh Spaniels', 'type': 'Breed'}, {'id': 'Pointers and Setters', 'type': 'Breed'}, {'id': 'Vizsla', 'type': 'Breed'}, {'id': 'German Shorthair', 'type': 'Breed'}, {'id': 'Wirehaired', 'type': 'Breed'}, {'id': 'English Pointer', 'type': 'Breed'}, {'id': 'Irish Setter', 'type': 'Breed'}, {'id': 'English Setter', 'type': 'Breed'}, {'id': 'Gordon Setter', 'type': 'Breed'}, {'id': 'Weimaraner', 'type': 'Breed'}, {'id': 'Terrier Group', 'type': 'Breed'}, {'id': 'Airedale', 'type': 'Breed'}, {'id': 'Bedlington', 'type': 'Breed'}, {'id': 'Boston', 'type': 'Breed'}, {'id': 'Bull', 'type': 'Breed'}, {'id': 'Scottish', 'type': 'Breed'}, {'id': 'Staffordshire', 'type': 'Breed'}, {'id': 'Russell', 'type': 'Breed'}, {'id': 'energetic', 'type': 'Characteristic'}, {'id': 'funLoving', 'type': 'Characteristic'}, {'id': 'rageSyndrome', 'type': 'Characteristic'}, {'id': 'happy', 'type': 'Characteristic'}, {'id': 'tolerant', 'type': 'Characteristic'}, {'id': 'sensitive', 'type': 'Characteristic'}, {'id': 'nervous', 'type': 'Characteristic'}, {'id': 'scrappy', 'type': 'Characteristic'}, {'id': 'independent', 'type': 'Characteristic'}, {'id': 'predatory', 'type': 'Characteristic'}, {'id': 'hardy', 'type': 'Characteristic'}, {'id': 'smart', 'type': 'Characteristic'}, {'id': 'playful', 'type': 'Characteristic'}], 'rels': [{'source': 'Spaniels', 'target': 'energetic', 'type': 'hasCharacteristic'}, {'source': 'Spaniels', 'target': 'funLoving', 'type': 'hasCharacteristic'}, {'source': 'Spaniels', 'target': 'rageSyndrome', 'type': 'hasCharacteristic'}, {'source': 'Pointers and Setters', 'target': 'energetic', 'type': 'hasCharacteristic'}, {'source': 'Pointers and Setters', 'target': 'happy', 'type': 'hasCharacteristic'}, {'source': 'Pointers and Setters', 'target': 'tolerant', 'type': 'hasCharacteristic'}, {'source': 'Pointers and Setters', 'target': 'sensitive', 'type': 'hasCharacteristic'}, {'source': 'Pointers and Setters', 'target': 'nervous', 'type': 'hasCharacteristic'}, {'source': 'Terrier Group', 'target': 'scrappy', 'type': 'hasCharacteristic'}, {'source': 'Terrier Group', 'target': 'energetic', 'type': 'hasCharacteristic'}, {'source': 'Terrier Group', 'target': 'independent', 'type': 'hasCharacteristic'}, {'source': 'Terrier Group', 'target': 'predatory', 'type': 'hasCharacteristic'}, {'source': 'Terrier Group', 'target': 'hardy', 'type': 'hasCharacteristic'}, {'source': 'Terrier Group', 'target': 'smart', 'type': 'hasCharacteristic'}, {'source': 'Terrier Group', 'target': 'playful', 'type': 'hasCharacteristic'}]}}`\n",
      "\n",
      "\n",
      "\u001b[0m\u001b[36;1m\u001b[1;3mnodes=[Node(id='Spaniels', type='Breed', properties=None), Node(id='American Water', type='Breed', properties=None), Node(id='Clumber', type='Breed', properties=None), Node(id='Cocker', type='Breed', properties=None), Node(id='English Cocker', type='Breed', properties=None), Node(id='English Toy', type='Breed', properties=None), Node(id='English Springer', type='Breed', properties=None), Node(id='Field', type='Breed', properties=None), Node(id='Irish Water', type='Breed', properties=None), Node(id='Japanese Chin', type='Breed', properties=None), Node(id='Sussex', type='Breed', properties=None), Node(id='Tibetan', type='Breed', properties=None), Node(id='Welsh Spaniels', type='Breed', properties=None), Node(id='Pointers and Setters', type='Breed', properties=None), Node(id='Vizsla', type='Breed', properties=None), Node(id='German Shorthair', type='Breed', properties=None), Node(id='Wirehaired', type='Breed', properties=None), Node(id='English Pointer', type='Breed', properties=None), Node(id='Irish Setter', type='Breed', properties=None), Node(id='English Setter', type='Breed', properties=None), Node(id='Gordon Setter', type='Breed', properties=None), Node(id='Weimaraner', type='Breed', properties=None), Node(id='Terrier Group', type='Breed', properties=None), Node(id='Airedale', type='Breed', properties=None), Node(id='Bedlington', type='Breed', properties=None), Node(id='Boston', type='Breed', properties=None), Node(id='Bull', type='Breed', properties=None), Node(id='Scottish', type='Breed', properties=None), Node(id='Staffordshire', type='Breed', properties=None), Node(id='Russell', type='Breed', properties=None), Node(id='energetic', type='Characteristic', properties=None), Node(id='funLoving', type='Characteristic', properties=None), Node(id='rageSyndrome', type='Characteristic', properties=None), Node(id='happy', type='Characteristic', properties=None), Node(id='tolerant', type='Characteristic', properties=None), Node(id='sensitive', type='Characteristic', properties=None), Node(id='nervous', type='Characteristic', properties=None), Node(id='scrappy', type='Characteristic', properties=None), Node(id='independent', type='Characteristic', properties=None), Node(id='predatory', type='Characteristic', properties=None), Node(id='hardy', type='Characteristic', properties=None), Node(id='smart', type='Characteristic', properties=None), Node(id='playful', type='Characteristic', properties=None)] rels=[Relationship(source='Spaniels', target='energetic', type='hasCharacteristic', properties=None), Relationship(source='Spaniels', target='funLoving', type='hasCharacteristic', properties=None), Relationship(source='Spaniels', target='rageSyndrome', type='hasCharacteristic', properties=None), Relationship(source='Pointers and Setters', target='energetic', type='hasCharacteristic', properties=None), Relationship(source='Pointers and Setters', target='happy', type='hasCharacteristic', properties=None), Relationship(source='Pointers and Setters', target='tolerant', type='hasCharacteristic', properties=None), Relationship(source='Pointers and Setters', target='sensitive', type='hasCharacteristic', properties=None), Relationship(source='Pointers and Setters', target='nervous', type='hasCharacteristic', properties=None), Relationship(source='Terrier Group', target='scrappy', type='hasCharacteristic', properties=None), Relationship(source='Terrier Group', target='energetic', type='hasCharacteristic', properties=None), Relationship(source='Terrier Group', target='independent', type='hasCharacteristic', properties=None), Relationship(source='Terrier Group', target='predatory', type='hasCharacteristic', properties=None), Relationship(source='Terrier Group', target='hardy', type='hasCharacteristic', properties=None), Relationship(source='Terrier Group', target='smart', type='hasCharacteristic', properties=None), Relationship(source='Terrier Group', target='playful', type='hasCharacteristic', properties=None)]\u001b[0m"
     ]
    },
    {
     "name": "stderr",
     "output_type": "stream",
     "text": [
      " 57%|█████▋    | 4/7 [10:10<07:55, 158.47s/it]"
     ]
    },
    {
     "name": "stdout",
     "output_type": "stream",
     "text": [
      "\u001b[32;1m\u001b[1;3mThe knowledge graph has been successfully created with the following structure:\n",
      "\n",
      "### Nodes:\n",
      "- Breeds: Spaniels, American Water, Clumber, Cocker, English Cocker, English Toy, English Springer, Field, Irish Water, Japanese Chin, Sussex, Tibetan, Welsh Spaniels, Pointers and Setters, Vizsla, German Shorthair, Wirehaired, English Pointer, Irish Setter, English Setter, Gordon Setter, Weimaraner, Terrier Group, Airedale, Bedlington, Boston, Bull, Scottish, Staffordshire, Russell.\n",
      "- Characteristics: energetic, funLoving, rageSyndrome, happy, tolerant, sensitive, nervous, scrappy, independent, predatory, hardy, smart, playful.\n",
      "\n",
      "### Relationships:\n",
      "- Spaniels have characteristics: energetic, funLoving, rageSyndrome.\n",
      "- Pointers and Setters have characteristics: energetic, happy, tolerant, sensitive, nervous.\n",
      "- Terrier Group has characteristics: scrappy, energetic, independent, predatory, hardy, smart, playful.\n",
      "\n",
      "This graph represents the breeds and their associated characteristics as extracted from the text.\u001b[0m\n",
      "\u001b[36;1m\u001b[1;3m[chain/end]\u001b[0m \u001b[1m[1:chain:AgentExecutor] [170.02s] Exiting Chain run with output:\n",
      "\u001b[0m{\n",
      "  \"output\": \"The knowledge graph has been successfully created with the following structure:\\n\\n### Nodes:\\n- Breeds: Spaniels, American Water, Clumber, Cocker, English Cocker, English Toy, English Springer, Field, Irish Water, Japanese Chin, Sussex, Tibetan, Welsh Spaniels, Pointers and Setters, Vizsla, German Shorthair, Wirehaired, English Pointer, Irish Setter, English Setter, Gordon Setter, Weimaraner, Terrier Group, Airedale, Bedlington, Boston, Bull, Scottish, Staffordshire, Russell.\\n- Characteristics: energetic, funLoving, rageSyndrome, happy, tolerant, sensitive, nervous, scrappy, independent, predatory, hardy, smart, playful.\\n\\n### Relationships:\\n- Spaniels have characteristics: energetic, funLoving, rageSyndrome.\\n- Pointers and Setters have characteristics: energetic, happy, tolerant, sensitive, nervous.\\n- Terrier Group has characteristics: scrappy, energetic, independent, predatory, hardy, smart, playful.\\n\\nThis graph represents the breeds and their associated characteristics as extracted from the text.\"\n",
      "}\n",
      "\n",
      "\u001b[1m> Finished chain.\u001b[0m\n",
      "\u001b[32;1m\u001b[1;3m[chain/start]\u001b[0m \u001b[1m[1:chain:AgentExecutor] Entering Chain run with input:\n",
      "\u001b[0m{\n",
      "  \"input\": \"Behavior & Training  \\n 415.506.6 280 \\n Available B&T Services  \\n \\n \\n171 Bel Marin Keys Blvd., Novato, CA  94949    Dog Breed Characteristics & Behavior  \\nLike us at :   Page 5 of 7 \\nToy Group : \\nDogs in  this group are miniature versions of dogs from many other groups. Many are \\ndescended from larger terriers and spaniels and do retain some of those traits. The \\nPomeranian is descended from the Spitz family of dogs —the sled dogs of Iceland and \\nLapland! Thes e small dogs usually have a lot of spirit and strong personalities. They \\ncan become the pack and household leader if the people don’t take charge of the \\nsituation. They can also be snappy.  \\n \\nCharacteristics : \\n Sensitive  \\n Sassy  \\n Intelligent  \\n Alert \\n Affectionate  \\n Fearless  \\n Toy breeds : \\n Cavalier King Charles  \\n Chihuahua  \\n Havanese  \\n Italian Greyhound  \\n Maltese  \\n Pomeranian   \\n Pekinese  \\n Toy Poodle  \\n Pug \\n Shih Tzu  \\n Silky & Yorkshire Terriers  \\n \\n \\nWorking Group : \\nThe working group includes dogs who  were originally bred to be draft dogs, hunters and guardians. They \\nare usually medium to large in size (over 40 pounds). These dogs are athletic, strong, courageou s and loyal. \\nThese are dogs who m people have come to rely on.  \\n \\nCharacteristics : \\n Strong  \\n Courageous  \\n Loyal   Affectionate  \\n Calm  \\n Protective   Smart  \\n Confident  \\n \\nFamilies within the working group : \\nNorthern Breeds : These beautiful dogs often look like wolves. Many are used in breeding Wol f Hybrids. \\nA working Malamute can pull up to a ton of material a short distance and Huskies can travel pulling a \\nloaded sled for many miles. Samoyeds are also sled dogs and the small \\nsized American Eskimos are sled dogs who  have been bred down to a \\nsmaller  size.  These dogs are very independent and may have a \\ntendency to roam if their home base is not securely fenced. (Please \\nreview  our handout on Escape Artists .)  \\n• Akita  \\n• Alaskan Malamute  \\n• Siberian Husky  \\n• Samoyed  \\n• Norwegian Elkhound  \\n• Finnish Spitz  \\n• American Husky\"\n",
      "}\n",
      "\n",
      "\n",
      "\u001b[1m> Entering new AgentExecutor chain...\u001b[0m\n",
      "\u001b[32;1m\u001b[1;3m\n",
      "Invoking: `knowledge_graph` with `{'object': {'nodes': [{'id': 'ToyGroup', 'type': 'BreedingGroup', 'properties': [{'key': 'description', 'value': 'Miniature versions of dogs from many other groups, often descended from larger terriers and spaniels, with a lot of spirit and strong personalities.'}]}, {'id': 'Sensitive', 'type': 'Characteristic'}, {'id': 'Sassy', 'type': 'Characteristic'}, {'id': 'Intelligent', 'type': 'Characteristic'}, {'id': 'Alert', 'type': 'Characteristic'}, {'id': 'Affectionate', 'type': 'Characteristic'}, {'id': 'Fearless', 'type': 'Characteristic'}, {'id': 'CavalierKingCharles', 'type': 'Breed'}, {'id': 'Chihuahua', 'type': 'Breed'}, {'id': 'Havanese', 'type': 'Breed'}, {'id': 'ItalianGreyhound', 'type': 'Breed'}, {'id': 'Maltese', 'type': 'Breed'}, {'id': 'Pomeranian', 'type': 'Breed'}, {'id': 'Pekinese', 'type': 'Breed'}, {'id': 'ToyPoodle', 'type': 'Breed'}, {'id': 'Pug', 'type': 'Breed'}, {'id': 'ShihTzu', 'type': 'Breed'}, {'id': 'SilkyTerrier', 'type': 'Breed'}, {'id': 'YorkshireTerrier', 'type': 'Breed'}, {'id': 'WorkingGroup', 'type': 'BreedingGroup', 'properties': [{'key': 'description', 'value': 'Includes dogs originally bred to be draft dogs, hunters, and guardians, usually medium to large in size, athletic, strong, courageous, and loyal.'}]}, {'id': 'Strong', 'type': 'Characteristic'}, {'id': 'Courageous', 'type': 'Characteristic'}, {'id': 'Loyal', 'type': 'Characteristic'}, {'id': 'Calm', 'type': 'Characteristic'}, {'id': 'Protective', 'type': 'Characteristic'}, {'id': 'Smart', 'type': 'Characteristic'}, {'id': 'Confident', 'type': 'Characteristic'}, {'id': 'NorthernBreeds', 'type': 'BreedingGroup', 'properties': [{'key': 'description', 'value': 'Beautiful dogs often resembling wolves, used in breeding Wolf Hybrids, independent with a tendency to roam if not securely fenced.'}]}, {'id': 'Akita', 'type': 'Breed'}, {'id': 'AlaskanMalamute', 'type': 'Breed'}, {'id': 'SiberianHusky', 'type': 'Breed'}, {'id': 'Samoyed', 'type': 'Breed'}, {'id': 'NorwegianElkhound', 'type': 'Breed'}, {'id': 'FinnishSpitz', 'type': 'Breed'}, {'id': 'AmericanHusky', 'type': 'Breed'}], 'rels': [{'source': 'ToyGroup', 'target': 'Sensitive', 'type': 'hasCharacteristic'}, {'source': 'ToyGroup', 'target': 'Sassy', 'type': 'hasCharacteristic'}, {'source': 'ToyGroup', 'target': 'Intelligent', 'type': 'hasCharacteristic'}, {'source': 'ToyGroup', 'target': 'Alert', 'type': 'hasCharacteristic'}, {'source': 'ToyGroup', 'target': 'Affectionate', 'type': 'hasCharacteristic'}, {'source': 'ToyGroup', 'target': 'Fearless', 'type': 'hasCharacteristic'}, {'source': 'WorkingGroup', 'target': 'Strong', 'type': 'hasCharacteristic'}, {'source': 'WorkingGroup', 'target': 'Courageous', 'type': 'hasCharacteristic'}, {'source': 'WorkingGroup', 'target': 'Loyal', 'type': 'hasCharacteristic'}, {'source': 'WorkingGroup', 'target': 'Affectionate', 'type': 'hasCharacteristic'}, {'source': 'WorkingGroup', 'target': 'Calm', 'type': 'hasCharacteristic'}, {'source': 'WorkingGroup', 'target': 'Protective', 'type': 'hasCharacteristic'}, {'source': 'WorkingGroup', 'target': 'Smart', 'type': 'hasCharacteristic'}, {'source': 'WorkingGroup', 'target': 'Confident', 'type': 'hasCharacteristic'}, {'source': 'NorthernBreeds', 'target': 'Akita', 'type': 'includesBreed'}, {'source': 'NorthernBreeds', 'target': 'AlaskanMalamute', 'type': 'includesBreed'}, {'source': 'NorthernBreeds', 'target': 'SiberianHusky', 'type': 'includesBreed'}, {'source': 'NorthernBreeds', 'target': 'Samoyed', 'type': 'includesBreed'}, {'source': 'NorthernBreeds', 'target': 'NorwegianElkhound', 'type': 'includesBreed'}, {'source': 'NorthernBreeds', 'target': 'FinnishSpitz', 'type': 'includesBreed'}, {'source': 'NorthernBreeds', 'target': 'AmericanHusky', 'type': 'includesBreed'}]}}`\n",
      "\n",
      "\n",
      "\u001b[0m\u001b[36;1m\u001b[1;3mnodes=[Node(id='ToyGroup', type='BreedingGroup', properties=[Property(key='description', value='Miniature versions of dogs from many other groups, often descended from larger terriers and spaniels, with a lot of spirit and strong personalities.')]), Node(id='Sensitive', type='Characteristic', properties=None), Node(id='Sassy', type='Characteristic', properties=None), Node(id='Intelligent', type='Characteristic', properties=None), Node(id='Alert', type='Characteristic', properties=None), Node(id='Affectionate', type='Characteristic', properties=None), Node(id='Fearless', type='Characteristic', properties=None), Node(id='CavalierKingCharles', type='Breed', properties=None), Node(id='Chihuahua', type='Breed', properties=None), Node(id='Havanese', type='Breed', properties=None), Node(id='ItalianGreyhound', type='Breed', properties=None), Node(id='Maltese', type='Breed', properties=None), Node(id='Pomeranian', type='Breed', properties=None), Node(id='Pekinese', type='Breed', properties=None), Node(id='ToyPoodle', type='Breed', properties=None), Node(id='Pug', type='Breed', properties=None), Node(id='ShihTzu', type='Breed', properties=None), Node(id='SilkyTerrier', type='Breed', properties=None), Node(id='YorkshireTerrier', type='Breed', properties=None), Node(id='WorkingGroup', type='BreedingGroup', properties=[Property(key='description', value='Includes dogs originally bred to be draft dogs, hunters, and guardians, usually medium to large in size, athletic, strong, courageous, and loyal.')]), Node(id='Strong', type='Characteristic', properties=None), Node(id='Courageous', type='Characteristic', properties=None), Node(id='Loyal', type='Characteristic', properties=None), Node(id='Calm', type='Characteristic', properties=None), Node(id='Protective', type='Characteristic', properties=None), Node(id='Smart', type='Characteristic', properties=None), Node(id='Confident', type='Characteristic', properties=None), Node(id='NorthernBreeds', type='BreedingGroup', properties=[Property(key='description', value='Beautiful dogs often resembling wolves, used in breeding Wolf Hybrids, independent with a tendency to roam if not securely fenced.')]), Node(id='Akita', type='Breed', properties=None), Node(id='AlaskanMalamute', type='Breed', properties=None), Node(id='SiberianHusky', type='Breed', properties=None), Node(id='Samoyed', type='Breed', properties=None), Node(id='NorwegianElkhound', type='Breed', properties=None), Node(id='FinnishSpitz', type='Breed', properties=None), Node(id='AmericanHusky', type='Breed', properties=None)] rels=[Relationship(source='ToyGroup', target='Sensitive', type='hasCharacteristic', properties=None), Relationship(source='ToyGroup', target='Sassy', type='hasCharacteristic', properties=None), Relationship(source='ToyGroup', target='Intelligent', type='hasCharacteristic', properties=None), Relationship(source='ToyGroup', target='Alert', type='hasCharacteristic', properties=None), Relationship(source='ToyGroup', target='Affectionate', type='hasCharacteristic', properties=None), Relationship(source='ToyGroup', target='Fearless', type='hasCharacteristic', properties=None), Relationship(source='WorkingGroup', target='Strong', type='hasCharacteristic', properties=None), Relationship(source='WorkingGroup', target='Courageous', type='hasCharacteristic', properties=None), Relationship(source='WorkingGroup', target='Loyal', type='hasCharacteristic', properties=None), Relationship(source='WorkingGroup', target='Affectionate', type='hasCharacteristic', properties=None), Relationship(source='WorkingGroup', target='Calm', type='hasCharacteristic', properties=None), Relationship(source='WorkingGroup', target='Protective', type='hasCharacteristic', properties=None), Relationship(source='WorkingGroup', target='Smart', type='hasCharacteristic', properties=None), Relationship(source='WorkingGroup', target='Confident', type='hasCharacteristic', properties=None), Relationship(source='NorthernBreeds', target='Akita', type='includesBreed', properties=None), Relationship(source='NorthernBreeds', target='AlaskanMalamute', type='includesBreed', properties=None), Relationship(source='NorthernBreeds', target='SiberianHusky', type='includesBreed', properties=None), Relationship(source='NorthernBreeds', target='Samoyed', type='includesBreed', properties=None), Relationship(source='NorthernBreeds', target='NorwegianElkhound', type='includesBreed', properties=None), Relationship(source='NorthernBreeds', target='FinnishSpitz', type='includesBreed', properties=None), Relationship(source='NorthernBreeds', target='AmericanHusky', type='includesBreed', properties=None)]\u001b[0m"
     ]
    },
    {
     "name": "stderr",
     "output_type": "stream",
     "text": [
      " 71%|███████▏  | 5/7 [13:28<05:45, 172.72s/it]"
     ]
    },
    {
     "name": "stdout",
     "output_type": "stream",
     "text": [
      "\u001b[32;1m\u001b[1;3mThe knowledge graph has been successfully created with nodes representing dog breeds, breeding groups, and characteristics. The relationships indicate which characteristics are associated with each breeding group and which breeds are included in the Northern Breeds group. Here is the structured representation:\n",
      "\n",
      "### Nodes:\n",
      "1. Breeding Groups:\n",
      "   - ToyGroup: Miniature versions of dogs from many other groups, often descended from larger terriers and spaniels, with a lot of spirit and strong personalities.\n",
      "   - WorkingGroup: Includes dogs originally bred to be draft dogs, hunters, and guardians, usually medium to large in size, athletic, strong, courageous, and loyal.\n",
      "   - NorthernBreeds: Beautiful dogs often resembling wolves, used in breeding Wolf Hybrids, independent with a tendency to roam if not securely fenced.\n",
      "\n",
      "2. Characteristics:\n",
      "   - Sensitive\n",
      "   - Sassy\n",
      "   - Intelligent\n",
      "   - Alert\n",
      "   - Affectionate\n",
      "   - Fearless\n",
      "   - Strong\n",
      "   - Courageous\n",
      "   - Loyal\n",
      "   - Calm\n",
      "   - Protective\n",
      "   - Smart\n",
      "   - Confident\n",
      "\n",
      "3. Breeds:\n",
      "   - Toy Breeds: Cavalier King Charles, Chihuahua, Havanese, Italian Greyhound, Maltese, Pomeranian, Pekinese, Toy Poodle, Pug, Shih Tzu, Silky Terrier, Yorkshire Terrier\n",
      "   - Northern Breeds: Akita, Alaskan Malamute, Siberian Husky, Samoyed, Norwegian Elkhound, Finnish Spitz, American Husky\n",
      "\n",
      "### Relationships:\n",
      "- ToyGroup has characteristics such as Sensitive, Sassy, Intelligent, Alert, Affectionate, and Fearless.\n",
      "- WorkingGroup has characteristics such as Strong, Courageous, Loyal, Affectionate, Calm, Protective, Smart, and Confident.\n",
      "- NorthernBreeds includes breeds such as Akita, Alaskan Malamute, Siberian Husky, Samoyed, Norwegian Elkhound, Finnish Spitz, and American Husky.\n",
      "\n",
      "This graph provides a clear and structured overview of the relationships between dog breeds, their breeding groups, and their characteristics.\u001b[0m\n",
      "\u001b[36;1m\u001b[1;3m[chain/end]\u001b[0m \u001b[1m[1:chain:AgentExecutor] [197.98s] Exiting Chain run with output:\n",
      "\u001b[0m{\n",
      "  \"output\": \"The knowledge graph has been successfully created with nodes representing dog breeds, breeding groups, and characteristics. The relationships indicate which characteristics are associated with each breeding group and which breeds are included in the Northern Breeds group. Here is the structured representation:\\n\\n### Nodes:\\n1. Breeding Groups:\\n   - ToyGroup: Miniature versions of dogs from many other groups, often descended from larger terriers and spaniels, with a lot of spirit and strong personalities.\\n   - WorkingGroup: Includes dogs originally bred to be draft dogs, hunters, and guardians, usually medium to large in size, athletic, strong, courageous, and loyal.\\n   - NorthernBreeds: Beautiful dogs often resembling wolves, used in breeding Wolf Hybrids, independent with a tendency to roam if not securely fenced.\\n\\n2. Characteristics:\\n   - Sensitive\\n   - Sassy\\n   - Intelligent\\n   - Alert\\n   - Affectionate\\n   - Fearless\\n   - Strong\\n   - Courageous\\n   - Loyal\\n   - Calm\\n   - Protective\\n   - Smart\\n   - Confident\\n\\n3. Breeds:\\n   - Toy Breeds: Cavalier King Charles, Chihuahua, Havanese, Italian Greyhound, Maltese, Pomeranian, Pekinese, Toy Poodle, Pug, Shih Tzu, Silky Terrier, Yorkshire Terrier\\n   - Northern Breeds: Akita, Alaskan Malamute, Siberian Husky, Samoyed, Norwegian Elkhound, Finnish Spitz, American Husky\\n\\n### Relationships:\\n- ToyGroup has characteristics such as Sensitive, Sassy, Intelligent, Alert, Affectionate, and Fearless.\\n- WorkingGroup has characteristics such as Strong, Courageous, Loyal, Affectionate, Calm, Protective, Smart, and Confident.\\n- NorthernBreeds includes breeds such as Akita, Alaskan Malamute, Siberian Husky, Samoyed, Norwegian Elkhound, Finnish Spitz, and American Husky.\\n\\nThis graph provides a clear and structured overview of the relationships between dog breeds, their breeding groups, and their characteristics.\"\n",
      "}\n",
      "\n",
      "\u001b[1m> Finished chain.\u001b[0m\n",
      "\u001b[32;1m\u001b[1;3m[chain/start]\u001b[0m \u001b[1m[1:chain:AgentExecutor] Entering Chain run with input:\n",
      "\u001b[0m{\n",
      "  \"input\": \"Behavior & Training  \\n 415.506.6 280 \\n Available B&T Services  \\n \\n \\n171 Bel Marin Keys Blvd., Novato, CA  94949    Dog Breed Characteristics & Behavior  \\nLike us at :   Page 6 of 7 \\n \\nProtection Breeds : Most protection dogs were originally bred to be \\nherding dogs or flock guards. They are now used for a variety of \\npurposes including police work a nd guarding homes and property.  \\n• Akita  \\n• Rottweiler  \\n• Doberman Pinscher  \\n• Bull Mastiff and Masti ff \\n• Great Dane  \\n• Boxer  \\n• Giant Schnauzer  \\n• German Shepherd ( also does protection work ) \\n• Rhodesian Ridgeback ( also does protection work ) \\n \\nFlock Guards and Mountain Dogs : Flock guardians were bred to protect \\nherds of sheep from predators. Many were bred to be white in color so \\nthey would blend in with their flock. These dogs tend to be protective \\nof their families and are fearless. The Mountain Dogs are closely related \\nto the flock guards. All these dogs are heavy boned and large. Both \\ntypes will want to wander beyond their home base. (Please review  our \\nhandout on Escape Artists .) \\nFlock Guard breeds : \\n• Great Pyranees  \\n• Komondor  \\n• Kuvasz  Mountain Dog breeds : \\n• St. Bernard  \\n• Newfoundland  \\n• Bernese Mountain Dog\"\n",
      "}\n",
      "\n",
      "\n",
      "\u001b[1m> Entering new AgentExecutor chain...\u001b[0m\n",
      "\u001b[32;1m\u001b[1;3m\n",
      "Invoking: `knowledge_graph` with `{'object': {'nodes': [{'id': 'Akita', 'type': 'Breed'}, {'id': 'Rottweiler', 'type': 'Breed'}, {'id': 'DobermanPinscher', 'type': 'Breed'}, {'id': 'BullMastiff', 'type': 'Breed'}, {'id': 'Mastiff', 'type': 'Breed'}, {'id': 'GreatDane', 'type': 'Breed'}, {'id': 'Boxer', 'type': 'Breed'}, {'id': 'GiantSchnauzer', 'type': 'Breed'}, {'id': 'GermanShepherd', 'type': 'Breed'}, {'id': 'RhodesianRidgeback', 'type': 'Breed'}, {'id': 'GreatPyranees', 'type': 'Breed'}, {'id': 'Komondor', 'type': 'Breed'}, {'id': 'Kuvasz', 'type': 'Breed'}, {'id': 'StBernard', 'type': 'Breed'}, {'id': 'Newfoundland', 'type': 'Breed'}, {'id': 'BerneseMountainDog', 'type': 'Breed'}, {'id': 'ProtectionWork', 'type': 'Characteristic'}, {'id': 'Herding', 'type': 'Characteristic'}, {'id': 'GuardingHomesAndProperty', 'type': 'Characteristic'}, {'id': 'FlockGuard', 'type': 'Characteristic'}, {'id': 'MountainDog', 'type': 'Characteristic'}, {'id': 'HeavyBoned', 'type': 'Characteristic'}, {'id': 'LargeSize', 'type': 'Characteristic'}, {'id': 'ProtectiveOfFamily', 'type': 'Characteristic'}, {'id': 'Fearless', 'type': 'Characteristic'}, {'id': 'WanderBeyondHomeBase', 'type': 'Characteristic'}], 'rels': [{'source': 'Akita', 'target': 'ProtectionWork', 'type': 'hasCharacteristic'}, {'source': 'Rottweiler', 'target': 'ProtectionWork', 'type': 'hasCharacteristic'}, {'source': 'DobermanPinscher', 'target': 'ProtectionWork', 'type': 'hasCharacteristic'}, {'source': 'BullMastiff', 'target': 'ProtectionWork', 'type': 'hasCharacteristic'}, {'source': 'Mastiff', 'target': 'ProtectionWork', 'type': 'hasCharacteristic'}, {'source': 'GreatDane', 'target': 'ProtectionWork', 'type': 'hasCharacteristic'}, {'source': 'Boxer', 'target': 'ProtectionWork', 'type': 'hasCharacteristic'}, {'source': 'GiantSchnauzer', 'target': 'ProtectionWork', 'type': 'hasCharacteristic'}, {'source': 'GermanShepherd', 'target': 'ProtectionWork', 'type': 'hasCharacteristic'}, {'source': 'RhodesianRidgeback', 'target': 'ProtectionWork', 'type': 'hasCharacteristic'}, {'source': 'GreatPyranees', 'target': 'FlockGuard', 'type': 'hasCharacteristic'}, {'source': 'Komondor', 'target': 'FlockGuard', 'type': 'hasCharacteristic'}, {'source': 'Kuvasz', 'target': 'FlockGuard', 'type': 'hasCharacteristic'}, {'source': 'StBernard', 'target': 'MountainDog', 'type': 'hasCharacteristic'}, {'source': 'Newfoundland', 'target': 'MountainDog', 'type': 'hasCharacteristic'}, {'source': 'BerneseMountainDog', 'target': 'MountainDog', 'type': 'hasCharacteristic'}, {'source': 'GreatPyranees', 'target': 'HeavyBoned', 'type': 'hasCharacteristic'}, {'source': 'Komondor', 'target': 'HeavyBoned', 'type': 'hasCharacteristic'}, {'source': 'Kuvasz', 'target': 'HeavyBoned', 'type': 'hasCharacteristic'}, {'source': 'StBernard', 'target': 'HeavyBoned', 'type': 'hasCharacteristic'}, {'source': 'Newfoundland', 'target': 'HeavyBoned', 'type': 'hasCharacteristic'}, {'source': 'BerneseMountainDog', 'target': 'HeavyBoned', 'type': 'hasCharacteristic'}, {'source': 'GreatPyranees', 'target': 'LargeSize', 'type': 'hasCharacteristic'}, {'source': 'Komondor', 'target': 'LargeSize', 'type': 'hasCharacteristic'}, {'source': 'Kuvasz', 'target': 'LargeSize', 'type': 'hasCharacteristic'}, {'source': 'StBernard', 'target': 'LargeSize', 'type': 'hasCharacteristic'}, {'source': 'Newfoundland', 'target': 'LargeSize', 'type': 'hasCharacteristic'}, {'source': 'BerneseMountainDog', 'target': 'LargeSize', 'type': 'hasCharacteristic'}, {'source': 'GreatPyranees', 'target': 'ProtectiveOfFamily', 'type': 'hasCharacteristic'}, {'source': 'Komondor', 'target': 'ProtectiveOfFamily', 'type': 'hasCharacteristic'}, {'source': 'Kuvasz', 'target': 'ProtectiveOfFamily', 'type': 'hasCharacteristic'}, {'source': 'StBernard', 'target': 'ProtectiveOfFamily', 'type': 'hasCharacteristic'}, {'source': 'Newfoundland', 'target': 'ProtectiveOfFamily', 'type': 'hasCharacteristic'}, {'source': 'BerneseMountainDog', 'target': 'ProtectiveOfFamily', 'type': 'hasCharacteristic'}, {'source': 'GreatPyranees', 'target': 'Fearless', 'type': 'hasCharacteristic'}, {'source': 'Komondor', 'target': 'Fearless', 'type': 'hasCharacteristic'}, {'source': 'Kuvasz', 'target': 'Fearless', 'type': 'hasCharacteristic'}, {'source': 'StBernard', 'target': 'Fearless', 'type': 'hasCharacteristic'}, {'source': 'Newfoundland', 'target': 'Fearless', 'type': 'hasCharacteristic'}, {'source': 'BerneseMountainDog', 'target': 'Fearless', 'type': 'hasCharacteristic'}, {'source': 'GreatPyranees', 'target': 'WanderBeyondHomeBase', 'type': 'hasCharacteristic'}, {'source': 'Komondor', 'target': 'WanderBeyondHomeBase', 'type': 'hasCharacteristic'}, {'source': 'Kuvasz', 'target': 'WanderBeyondHomeBase', 'type': 'hasCharacteristic'}, {'source': 'StBernard', 'target': 'WanderBeyondHomeBase', 'type': 'hasCharacteristic'}, {'source': 'Newfoundland', 'target': 'WanderBeyondHomeBase', 'type': 'hasCharacteristic'}, {'source': 'BerneseMountainDog', 'target': 'WanderBeyondHomeBase', 'type': 'hasCharacteristic'}]}}`\n",
      "\n",
      "\n",
      "\u001b[0m\u001b[36;1m\u001b[1;3mnodes=[Node(id='Akita', type='Breed', properties=None), Node(id='Rottweiler', type='Breed', properties=None), Node(id='DobermanPinscher', type='Breed', properties=None), Node(id='BullMastiff', type='Breed', properties=None), Node(id='Mastiff', type='Breed', properties=None), Node(id='GreatDane', type='Breed', properties=None), Node(id='Boxer', type='Breed', properties=None), Node(id='GiantSchnauzer', type='Breed', properties=None), Node(id='GermanShepherd', type='Breed', properties=None), Node(id='RhodesianRidgeback', type='Breed', properties=None), Node(id='GreatPyranees', type='Breed', properties=None), Node(id='Komondor', type='Breed', properties=None), Node(id='Kuvasz', type='Breed', properties=None), Node(id='StBernard', type='Breed', properties=None), Node(id='Newfoundland', type='Breed', properties=None), Node(id='BerneseMountainDog', type='Breed', properties=None), Node(id='ProtectionWork', type='Characteristic', properties=None), Node(id='Herding', type='Characteristic', properties=None), Node(id='GuardingHomesAndProperty', type='Characteristic', properties=None), Node(id='FlockGuard', type='Characteristic', properties=None), Node(id='MountainDog', type='Characteristic', properties=None), Node(id='HeavyBoned', type='Characteristic', properties=None), Node(id='LargeSize', type='Characteristic', properties=None), Node(id='ProtectiveOfFamily', type='Characteristic', properties=None), Node(id='Fearless', type='Characteristic', properties=None), Node(id='WanderBeyondHomeBase', type='Characteristic', properties=None)] rels=[Relationship(source='Akita', target='ProtectionWork', type='hasCharacteristic', properties=None), Relationship(source='Rottweiler', target='ProtectionWork', type='hasCharacteristic', properties=None), Relationship(source='DobermanPinscher', target='ProtectionWork', type='hasCharacteristic', properties=None), Relationship(source='BullMastiff', target='ProtectionWork', type='hasCharacteristic', properties=None), Relationship(source='Mastiff', target='ProtectionWork', type='hasCharacteristic', properties=None), Relationship(source='GreatDane', target='ProtectionWork', type='hasCharacteristic', properties=None), Relationship(source='Boxer', target='ProtectionWork', type='hasCharacteristic', properties=None), Relationship(source='GiantSchnauzer', target='ProtectionWork', type='hasCharacteristic', properties=None), Relationship(source='GermanShepherd', target='ProtectionWork', type='hasCharacteristic', properties=None), Relationship(source='RhodesianRidgeback', target='ProtectionWork', type='hasCharacteristic', properties=None), Relationship(source='GreatPyranees', target='FlockGuard', type='hasCharacteristic', properties=None), Relationship(source='Komondor', target='FlockGuard', type='hasCharacteristic', properties=None), Relationship(source='Kuvasz', target='FlockGuard', type='hasCharacteristic', properties=None), Relationship(source='StBernard', target='MountainDog', type='hasCharacteristic', properties=None), Relationship(source='Newfoundland', target='MountainDog', type='hasCharacteristic', properties=None), Relationship(source='BerneseMountainDog', target='MountainDog', type='hasCharacteristic', properties=None), Relationship(source='GreatPyranees', target='HeavyBoned', type='hasCharacteristic', properties=None), Relationship(source='Komondor', target='HeavyBoned', type='hasCharacteristic', properties=None), Relationship(source='Kuvasz', target='HeavyBoned', type='hasCharacteristic', properties=None), Relationship(source='StBernard', target='HeavyBoned', type='hasCharacteristic', properties=None), Relationship(source='Newfoundland', target='HeavyBoned', type='hasCharacteristic', properties=None), Relationship(source='BerneseMountainDog', target='HeavyBoned', type='hasCharacteristic', properties=None), Relationship(source='GreatPyranees', target='LargeSize', type='hasCharacteristic', properties=None), Relationship(source='Komondor', target='LargeSize', type='hasCharacteristic', properties=None), Relationship(source='Kuvasz', target='LargeSize', type='hasCharacteristic', properties=None), Relationship(source='StBernard', target='LargeSize', type='hasCharacteristic', properties=None), Relationship(source='Newfoundland', target='LargeSize', type='hasCharacteristic', properties=None), Relationship(source='BerneseMountainDog', target='LargeSize', type='hasCharacteristic', properties=None), Relationship(source='GreatPyranees', target='ProtectiveOfFamily', type='hasCharacteristic', properties=None), Relationship(source='Komondor', target='ProtectiveOfFamily', type='hasCharacteristic', properties=None), Relationship(source='Kuvasz', target='ProtectiveOfFamily', type='hasCharacteristic', properties=None), Relationship(source='StBernard', target='ProtectiveOfFamily', type='hasCharacteristic', properties=None), Relationship(source='Newfoundland', target='ProtectiveOfFamily', type='hasCharacteristic', properties=None), Relationship(source='BerneseMountainDog', target='ProtectiveOfFamily', type='hasCharacteristic', properties=None), Relationship(source='GreatPyranees', target='Fearless', type='hasCharacteristic', properties=None), Relationship(source='Komondor', target='Fearless', type='hasCharacteristic', properties=None), Relationship(source='Kuvasz', target='Fearless', type='hasCharacteristic', properties=None), Relationship(source='StBernard', target='Fearless', type='hasCharacteristic', properties=None), Relationship(source='Newfoundland', target='Fearless', type='hasCharacteristic', properties=None), Relationship(source='BerneseMountainDog', target='Fearless', type='hasCharacteristic', properties=None), Relationship(source='GreatPyranees', target='WanderBeyondHomeBase', type='hasCharacteristic', properties=None), Relationship(source='Komondor', target='WanderBeyondHomeBase', type='hasCharacteristic', properties=None), Relationship(source='Kuvasz', target='WanderBeyondHomeBase', type='hasCharacteristic', properties=None), Relationship(source='StBernard', target='WanderBeyondHomeBase', type='hasCharacteristic', properties=None), Relationship(source='Newfoundland', target='WanderBeyondHomeBase', type='hasCharacteristic', properties=None), Relationship(source='BerneseMountainDog', target='WanderBeyondHomeBase', type='hasCharacteristic', properties=None)]\u001b[0m"
     ]
    },
    {
     "name": "stderr",
     "output_type": "stream",
     "text": [
      " 86%|████████▌ | 6/7 [17:01<03:06, 186.42s/it]"
     ]
    },
    {
     "name": "stdout",
     "output_type": "stream",
     "text": [
      "\u001b[32;1m\u001b[1;3mThe knowledge graph has been successfully created with breeds of dogs as nodes and their characteristics as separate nodes. Relationships have been established between the dog breeds and their respective characteristics, such as \"ProtectionWork,\" \"FlockGuard,\" \"MountainDog,\" \"HeavyBoned,\" \"LargeSize,\" \"ProtectiveOfFamily,\" \"Fearless,\" and \"WanderBeyondHomeBase.\" Each breed has been linked to the characteristics mentioned in the text, providing a structured representation of the information provided.\u001b[0m\n",
      "\u001b[36;1m\u001b[1;3m[chain/end]\u001b[0m \u001b[1m[1:chain:AgentExecutor] [213.00s] Exiting Chain run with output:\n",
      "\u001b[0m{\n",
      "  \"output\": \"The knowledge graph has been successfully created with breeds of dogs as nodes and their characteristics as separate nodes. Relationships have been established between the dog breeds and their respective characteristics, such as \\\"ProtectionWork,\\\" \\\"FlockGuard,\\\" \\\"MountainDog,\\\" \\\"HeavyBoned,\\\" \\\"LargeSize,\\\" \\\"ProtectiveOfFamily,\\\" \\\"Fearless,\\\" and \\\"WanderBeyondHomeBase.\\\" Each breed has been linked to the characteristics mentioned in the text, providing a structured representation of the information provided.\"\n",
      "}\n",
      "\n",
      "\u001b[1m> Finished chain.\u001b[0m\n",
      "\u001b[32;1m\u001b[1;3m[chain/start]\u001b[0m \u001b[1m[1:chain:AgentExecutor] Entering Chain run with input:\n",
      "\u001b[0m{\n",
      "  \"input\": \"Behavior & Training  \\n 415.506.6 280 \\n Available B&T Services  \\n \\n \\n171 Bel Marin Keys Blvd., Novato, CA  94949    Dog Breed Characteristics & Behavior  \\nLike us at :   Page 7 of 7 \\nTraining Resources : \\nMarin Humane ’s Behavior & Training  conducts various training classes. Sign up on our Behavior & Training  \\npage  for the next available class series . \\n \\nWe also provide Dog Training Instructors  and Consultants  available for private training or consultations \\n(on-site or in -home) at 415.506.6280 or OhBeHAVE@MarinHumane.org . \\n \\nRemember to license your dog  (It’s the LAW) !  If your dog gets lost, a license tag on your d og’s collar is the \\nfastest way to reunite you and your dog. Even if your dog is microchipped, a license tag is immediately \\nvisible and doesn’t require a scanning device to read . For more information about licensing, microchipping, \\nand other services provid ed by  Marin Humane , visit us at MarinHumane.org  or stop by at 171 Bel Marin \\nKeys Blvd, Novato, CA.\"\n",
      "}\n",
      "\n",
      "\n",
      "\u001b[1m> Entering new AgentExecutor chain...\u001b[0m\n",
      "\u001b[32;1m\u001b[1;3m\n",
      "Invoking: `knowledge_graph` with `{'object': {'nodes': [{'id': 'BehaviorAndTrainingServices', 'type': 'Characteristic', 'properties': [{'key': 'description', 'value': \"Marin Humane's Behavior & Training conducts various training classes and provides Dog Training Instructors and Consultants for private training or consultations.\"}]}, {'id': 'DogLicense', 'type': 'Characteristic', 'properties': [{'key': 'description', 'value': \"A license tag on a dog's collar is the fastest way to reunite lost dogs with their owners, and it's required by law.\"}]}, {'id': 'Microchipping', 'type': 'Characteristic', 'properties': [{'key': 'description', 'value': \"Microchipping is a method for identifying dogs, but a license tag is immediately visible and doesn't require a scanning device.\"}]}], 'rels': []}}`\n",
      "\n",
      "\n",
      "\u001b[0m\u001b[36;1m\u001b[1;3mnodes=[Node(id='BehaviorAndTrainingServices', type='Characteristic', properties=[Property(key='description', value=\"Marin Humane's Behavior & Training conducts various training classes and provides Dog Training Instructors and Consultants for private training or consultations.\")]), Node(id='DogLicense', type='Characteristic', properties=[Property(key='description', value=\"A license tag on a dog's collar is the fastest way to reunite lost dogs with their owners, and it's required by law.\")]), Node(id='Microchipping', type='Characteristic', properties=[Property(key='description', value=\"Microchipping is a method for identifying dogs, but a license tag is immediately visible and doesn't require a scanning device.\")])] rels=[]\u001b[0m"
     ]
    },
    {
     "name": "stderr",
     "output_type": "stream",
     "text": [
      "100%|██████████| 7/7 [50:54<00:00, 436.30s/it]"
     ]
    },
    {
     "name": "stdout",
     "output_type": "stream",
     "text": [
      "\u001b[32;1m\u001b[1;3mThe knowledge graph has been created with the following characteristics as nodes:\n",
      "\n",
      "1. **BehaviorAndTrainingServices**\n",
      "   - Description: Marin Humane's Behavior & Training conducts various training classes and provides Dog Training Instructors and Consultants for private training or consultations.\n",
      "\n",
      "2. **DogLicense**\n",
      "   - Description: A license tag on a dog's collar is the fastest way to reunite lost dogs with their owners, and it's required by law.\n",
      "\n",
      "3. **Microchipping**\n",
      "   - Description: Microchipping is a method for identifying dogs, but a license tag is immediately visible and doesn't require a scanning device.\n",
      "\n",
      "There are no relationships defined as the provided text does not specify any particular dog breeds associated with these characteristics.\u001b[0m\n",
      "\u001b[36;1m\u001b[1;3m[chain/end]\u001b[0m \u001b[1m[1:chain:AgentExecutor] [2032.98s] Exiting Chain run with output:\n",
      "\u001b[0m{\n",
      "  \"output\": \"The knowledge graph has been created with the following characteristics as nodes:\\n\\n1. **BehaviorAndTrainingServices**\\n   - Description: Marin Humane's Behavior & Training conducts various training classes and provides Dog Training Instructors and Consultants for private training or consultations.\\n\\n2. **DogLicense**\\n   - Description: A license tag on a dog's collar is the fastest way to reunite lost dogs with their owners, and it's required by law.\\n\\n3. **Microchipping**\\n   - Description: Microchipping is a method for identifying dogs, but a license tag is immediately visible and doesn't require a scanning device.\\n\\nThere are no relationships defined as the provided text does not specify any particular dog breeds associated with these characteristics.\"\n",
      "}\n",
      "\n",
      "\u001b[1m> Finished chain.\u001b[0m\n"
     ]
    },
    {
     "name": "stderr",
     "output_type": "stream",
     "text": [
      "\n"
     ]
    },
    {
     "ename": "AttributeError",
     "evalue": "'Neo4jGraph' object has no attribute 'add_documents'",
     "output_type": "error",
     "traceback": [
      "\u001b[0;31m---------------------------------------------------------------------------\u001b[0m",
      "\u001b[0;31mAttributeError\u001b[0m                            Traceback (most recent call last)",
      "Cell \u001b[0;32mIn[9], line 28\u001b[0m\n\u001b[1;32m     24\u001b[0m             \u001b[38;5;28mprint\u001b[39m(\u001b[38;5;124m\"\u001b[39m\u001b[38;5;124moutput exception\u001b[39m\u001b[38;5;124m\"\u001b[39m)\n\u001b[1;32m     25\u001b[0m             \u001b[38;5;28mprint\u001b[39m(e)\n\u001b[0;32m---> 28\u001b[0m \u001b[43mgraph\u001b[49m\u001b[38;5;241;43m.\u001b[39;49m\u001b[43madd_documents\u001b[49m(graph_docs)\n",
      "\u001b[0;31mAttributeError\u001b[0m: 'Neo4jGraph' object has no attribute 'add_documents'"
     ]
    }
   ],
   "source": [
    "from langchain.text_splitter import RecursiveCharacterTextSplitter\n",
    "\n",
    "full_doc = \"\"\n",
    "graph_docs = []\n",
    "\n",
    "\n",
    "for doc_name,doc_map in docs_pages_map.items():    \n",
    "    for page in tqdm(doc_map):\n",
    "        try:\n",
    "            text = page[2].strip()\n",
    "            # This will update the list function_responses. It's a global variable. (Not optimal I know)\n",
    "            data = chain.invoke(\n",
    "                {\n",
    "                    \"input\": text,\n",
    "                }\n",
    "            )      \n",
    "            for graph_doc in function_responses:\n",
    "                tmp = extract_and_store_graph(graph_doc, Document(page_content=text))\n",
    "                if tmp:                                    \n",
    "                    graph_docs.append(tmp)\n",
    "                \n",
    "            function_responses.clear()\n",
    "        except OutputParserException as e:\n",
    "            print(\"output exception\")\n",
    "            print(e)\n",
    "\n",
    "    \n",
    "graph.add_graph_documents(graph_docs)\n",
    "         \n"
   ]
  },
  {
   "cell_type": "code",
   "execution_count": 10,
   "metadata": {},
   "outputs": [],
   "source": [
    "#Let's pickle the graph so we don't have to redo this all the time\n",
    "import pickle\n",
    "\n",
    "\n",
    "with open('./data/graph_docs.pkl','wb') as f:\n",
    "    pickle.dump(graph_docs, f)"
   ]
  },
  {
   "cell_type": "code",
   "execution_count": 11,
   "metadata": {},
   "outputs": [],
   "source": [
    "# Only execute this cell if you need to load the graph from pickle (like after kernel restart)\n",
    "import pickle\n",
    "with open('./data/graph_docs.pkl','rb') as f:\n",
    "    graph_docs = pickle.load(f)\n",
    "    graph.add_graph_documents(graph_docs)\n",
    "    "
   ]
  },
  {
   "cell_type": "code",
   "execution_count": 13,
   "metadata": {},
   "outputs": [
    {
     "name": "stdout",
     "output_type": "stream",
     "text": [
      "{'node_props': {'Node': [{'property': 'id', 'type': 'STRING'}, {'property': 'name', 'type': 'STRING'}]}, 'rel_props': {}, 'relationships': [{'start': 'Node', 'type': 'HASCHARACTERISTIC', 'end': 'Node'}, {'start': 'Node', 'type': 'BELONGSTO', 'end': 'Node'}, {'start': 'Node', 'type': 'INCLUDESBREED', 'end': 'Node'}]}\n"
     ]
    }
   ],
   "source": [
    "from langchain.chains import GraphCypherQAChain\n",
    "\n",
    "graph.refresh_schema()\n",
    "print(graph.structured_schema)\n",
    "\n",
    "# Need new llm, cypher chain does not work with json output\n",
    "c_llm = AzureChatOpenAI(\n",
    "    model=os.getenv(\"OPENAI_DEPLOYMENT_NAME\"), \n",
    "    temperature=0, \n",
    "    max_tokens=1500,\n",
    "    verbose=True)\n",
    "\n",
    "cypher_chain = GraphCypherQAChain.from_llm(\n",
    "    graph=graph,\n",
    "    cypher_llm=c_llm,\n",
    "    qa_llm=c_llm,\n",
    "    validate_cypher=True,\n",
    "    verbose=True\n",
    ")"
   ]
  },
  {
   "cell_type": "code",
   "execution_count": 14,
   "metadata": {},
   "outputs": [
    {
     "name": "stderr",
     "output_type": "stream",
     "text": [
      "/home/pj/dev/cosmosdb-llm-knowledge-graph/.venv/lib/python3.11/site-packages/langchain_core/_api/deprecation.py:117: LangChainDeprecationWarning: The function `run` was deprecated in LangChain 0.1.0 and will be removed in 0.2.0. Use invoke instead.\n",
      "  warn_deprecated(\n"
     ]
    },
    {
     "name": "stdout",
     "output_type": "stream",
     "text": [
      "\n",
      "\n",
      "\u001b[1m> Entering new GraphCypherQAChain chain...\u001b[0m\n",
      "Generated Cypher:\n",
      "\u001b[32;1m\u001b[1;3mcypher\n",
      "MATCH (loyaltyTrait:Node {name: \"loyal\"})-[:HASCHARACTERISTIC]-(breed:Node)-[:INCLUDESBREED]-(species:Node)\n",
      "RETURN breed.id, breed.name\n",
      "\u001b[0m\n",
      "Full Context:\n",
      "\u001b[32;1m\u001b[1;3m[]\u001b[0m\n",
      "\n",
      "\u001b[1m> Finished chain.\u001b[0m\n"
     ]
    },
    {
     "data": {
      "text/plain": [
       "\"I don't know the answer.\""
      ]
     },
     "execution_count": 14,
     "metadata": {},
     "output_type": "execute_result"
    }
   ],
   "source": [
    "cypher_chain.invoke(\"Which breeds are loyal?\")"
   ]
  },
  {
   "cell_type": "code",
   "execution_count": 26,
   "metadata": {},
   "outputs": [
    {
     "data": {
      "text/plain": [
       "[]"
      ]
     },
     "execution_count": 26,
     "metadata": {},
     "output_type": "execute_result"
    }
   ],
   "source": [
    "graph.query(\"MATCH (n) DETACH DELETE n\")"
   ]
  }
 ],
 "metadata": {
  "kernelspec": {
   "display_name": ".venv",
   "language": "python",
   "name": "python3"
  },
  "language_info": {
   "codemirror_mode": {
    "name": "ipython",
    "version": 3
   },
   "file_extension": ".py",
   "mimetype": "text/x-python",
   "name": "python",
   "nbconvert_exporter": "python",
   "pygments_lexer": "ipython3",
   "version": "3.11.6+"
  }
 },
 "nbformat": 4,
 "nbformat_minor": 2
}
