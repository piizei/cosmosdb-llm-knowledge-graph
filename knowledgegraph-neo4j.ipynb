{
 "cells": [
  {
   "cell_type": "markdown",
   "metadata": {},
   "source": [
    "# Knowledge Graph Creation and Querying with Neo4j and LLMs\n",
    "![title](neo4jdogs.png)\n",
    "\n",
    "This notebook demonstrates how to use Neo4j to store, manage, and query a knowledge graph created in the previous notebook [Create knowledge graph from PDF](./knowledgegraph.ipynb).\n",
    "\n",
    "## Overview\n",
    "- Load graph data from pickle file created in the previous step\n",
    "- Store data in Neo4j database\n",
    "- Create a graph query chain using LangChain and Azure OpenAI\n",
    "- Query the graph using natural language"
   ]
  },
  {
   "cell_type": "markdown",
   "metadata": {},
   "source": [
    "## Environment Setup and Neo4j Connection\n",
    "\n",
    "Before running this notebook, ensure you have started the Neo4j database using Docker Compose:\n",
    "```bash\n",
    "docker-compose up -d\n",
    "```\n",
    "\n",
    "The following cell loads environment variables and establishes a connection to the Neo4j database."
   ]
  },
  {
   "cell_type": "code",
   "execution_count": null,
   "metadata": {},
   "outputs": [],
   "source": [
    "import os\n",
    "from langchain_neo4j import Neo4jGraph\n",
    "from dotenv import load_dotenv\n",
    "\n",
    "# Load environment variables from .env file\n",
    "load_dotenv()\n",
    "\n",
    "# Set up connection to Neo4j database\n",
    "try:\n",
    "    graph = Neo4jGraph(\n",
    "        url=os.getenv(\"NEO4J_URL\"),\n",
    "        username=os.getenv(\"NEO4J_USERNAME\"),\n",
    "        password=os.getenv(\"NEO4J_PASSWORD\")\n",
    "    )\n",
    "    print(\"Successfully connected to Neo4j database\")\n",
    "except Exception as e:\n",
    "    print(f\"Error connecting to Neo4j: {e}\")\n",
    "    print(\"Make sure the Neo4j container is running and environment variables are set correctly\")"
   ]
  },
  {
   "cell_type": "markdown",
   "metadata": {},
   "source": [
    "## Loading and Processing Graph Data\n",
    "\n",
    "In this section, we load previously generated graph data from a pickle file and prepare it for import into Neo4j.\n",
    "The data enhances node properties to improve visualization in Neo4j's interface."
   ]
  },
  {
   "cell_type": "code",
   "execution_count": null,
   "metadata": {},
   "outputs": [],
   "source": [
    "import pickle\n",
    "from pathlib import Path\n",
    "\n",
    "# Define file path and check if it exists\n",
    "graph_file = Path('./data/graph_docs.pkl')\n",
    "if not graph_file.exists():\n",
    "    raise FileNotFoundError(f\"Graph data file not found at {graph_file}. Run the previous notebook first.\")\n",
    "\n",
    "# Load the graph documents from pickle file\n",
    "try:\n",
    "    with open(graph_file, 'rb') as f:\n",
    "        graph_docs = pickle.load(f)\n",
    "    print(f\"Successfully loaded {len(graph_docs)} graph documents\")\n",
    "\n",
    "    # Enhance nodes with display properties for better visualization\n",
    "    for doc in graph_docs:\n",
    "        for node in doc.nodes:\n",
    "            node.properties['name'] = node.id\n",
    "            node.properties['category'] = node.type\n",
    "                \n",
    "    # Add the enhanced graph documents to Neo4j\n",
    "    graph.add_graph_documents(graph_docs, baseEntityLabel=True)\n",
    "    print(\"Graph data successfully imported to Neo4j\")\n",
    "except Exception as e:\n",
    "    print(f\"Error loading or importing graph data: {e}\")"
   ]
  },
  {
   "cell_type": "markdown",
   "metadata": {},
   "source": [
    "## Neo4j Visualization\n",
    "\n",
    "Now you should be able to see the graph in your Neo4j browser at http://localhost:7474/\n",
    "\n",
    "The visualization provides an interactive way to explore the knowledge graph structure, relationships, and properties."
   ]
  },
  {
   "cell_type": "markdown",
   "metadata": {},
   "source": [
    "## Configure Natural Language Querying with LangChain and Azure OpenAI\n",
    "\n",
    "This section sets up a query chain that allows us to ask questions in natural language about the knowledge graph.\n",
    "The chain uses Azure OpenAI to translate natural language into Cypher queries and format the results."
   ]
  },
  {
   "cell_type": "code",
   "execution_count": null,
   "metadata": {},
   "outputs": [],
   "source": [
    "from langchain_neo4j import GraphCypherQAChain\n",
    "from langchain_openai import AzureChatOpenAI\n",
    "\n",
    "# Refresh schema to ensure the latest graph structure is available to the LLM\n",
    "graph.refresh_schema()\n",
    "\n",
    "# Initialize Azure OpenAI client with proper error handling\n",
    "try:\n",
    "    c_llm = AzureChatOpenAI(\n",
    "        timeout=3*60*1000,  # 3-minute timeout\n",
    "        api_version=\"2025-02-01-preview\",\n",
    "        azure_endpoint=os.getenv(\"AZURE_OPENAI_ENDPOINT\"),\n",
    "        azure_deployment=os.getenv(\"AZURE_OPENAI_DEPLOYMENT_NAME\"),\n",
    "        api_key=os.getenv(\"AZURE_OPENAI_API_KEY\"),\n",
    "        verbose=True,\n",
    "        reasoning_effort=\"medium\",\n",
    "    )\n",
    "    \n",
    "    # Create the Cypher query chain\n",
    "    cypher_chain = GraphCypherQAChain.from_llm(\n",
    "        graph=graph,\n",
    "        cypher_llm=c_llm,  # LLM for generating Cypher queries\n",
    "        qa_llm=c_llm,      # LLM for formatting results\n",
    "        top_k=500,         # Maximum number of results to return\n",
    "        validate_cypher=True,  # Validate Cypher queries before execution\n",
    "        verbose=True,          # Show intermediate steps\n",
    "        allow_dangerous_requests=True  # Enable potentially expensive queries\n",
    "    )\n",
    "    print(\"Query chain successfully created\")\n",
    "except Exception as e:\n",
    "    print(f\"Error initializing Azure OpenAI or query chain: {e}\")\n",
    "    print(\"Check that all environment variables are properly set in your .env file\")"
   ]
  },
  {
   "cell_type": "markdown",
   "metadata": {},
   "source": [
    "## Querying the Knowledge Graph with Natural Language\n",
    "\n",
    "Now we can ask questions about our knowledge graph using natural language. The system will:\n",
    "1. Convert natural language to Cypher queries\n",
    "2. Execute the queries against the Neo4j database\n",
    "3. Format the results in a user-friendly way\n",
    "\n",
    "Let's try some example queries below."
   ]
  },
  {
   "cell_type": "code",
   "execution_count": null,
   "metadata": {},
   "outputs": [],
   "source": [
    "from IPython.display import Markdown, display\n",
    "\n",
    "def query_graph(question):\n",
    "    \"\"\"Query the knowledge graph with natural language and display formatted results\"\"\"\n",
    "    try:\n",
    "        print(f\"Question: {question}\")\n",
    "        response = cypher_chain.invoke(question)\n",
    "        display(Markdown(response[\"result\"]))\n",
    "    except Exception as e:\n",
    "        print(f\"Error querying graph: {e}\")\n",
    "\n",
    "# Example 1: Overview of breeding groups\n",
    "query_graph(\"Make table of different breeding groups and their characteristics\")"
   ]
  },
  {
   "cell_type": "code",
   "execution_count": null,
   "metadata": {},
   "outputs": [],
   "source": [
    "# Example 2: Specific question about herding group breeds\n",
    "query_graph(\"What breeds are in the Herding Group and what characteristics do they have?\")"
   ]
  },
  {
   "cell_type": "code",
   "execution_count": null,
   "metadata": {},
   "outputs": [],
   "source": [
    "# Example 3: Compare characteristics across breed groups\n",
    "query_graph(\"Compare the traits of Working Group dogs versus Toy Group dogs\")"
   ]
  },
  {
   "cell_type": "markdown",
   "metadata": {},
   "source": [
    "## Cleanup (Optional)\n",
    "\n",
    "The following cell will clear all data from the Neo4j database. Run this if you want to reset your database or load fresh data.\n",
    "**Warning**: This operation cannot be undone. Comment out or skip this cell if you want to preserve your data."
   ]
  },
  {
   "cell_type": "code",
   "execution_count": null,
   "metadata": {},
   "outputs": [],
   "source": [
    "# Database cleanup - uncomment to execute\n",
    "# graph.query(\"MATCH (n) DETACH DELETE n\")\n",
    "# print(\"Database cleared successfully\")"
   ]
  },
  {
   "cell_type": "markdown",
   "metadata": {},
   "source": [
    "## Conclusion\n",
    "\n",
    "In this notebook, we've demonstrated how to:\n",
    "\n",
    "1. Load pre-processed graph data into Neo4j\n",
    "2. Configure a natural language interface using LangChain and Azure OpenAI\n",
    "3. Query the graph using natural language questions\n",
    "4. Visualize and explore the results\n",
    "\n",
    "This approach combines the power of knowledge graphs with LLMs to provide a flexible way to explore complex relationships in structured data while maintaining context and provenance.\n",
    "\n",
    "### Next Steps\n",
    "\n",
    "- Experiment with more complex queries\n",
    "- Add additional data sources to enrich the knowledge graph\n",
    "- Implement more advanced filtering and aggregation capabilities\n",
    "- Integrate with downstream applications or dashboards"
   ]
  }
 ],
 "metadata": {
  "kernelspec": {
   "display_name": ".venv (3.11.9)",
   "language": "python",
   "name": "python3"
  },
  "language_info": {
   "codemirror_mode": {
    "name": "ipython",
    "version": 3
   },
   "file_extension": ".py",
   "mimetype": "text/x-python",
   "name": "python",
   "nbconvert_exporter": "python",
   "pygments_lexer": "ipython3",
   "version": "3.11.9"
  }
 },
 "nbformat": 4,
 "nbformat_minor": 2
}
