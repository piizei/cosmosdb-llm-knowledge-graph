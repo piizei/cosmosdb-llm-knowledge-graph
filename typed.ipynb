{
 "cells": [
  {
   "cell_type": "markdown",
   "id": "93aec10c",
   "metadata": {},
   "source": [
    "## Typed\n",
    "This notebook demonstrates another approach to the knowledge graph, using strongly typed information.\n",
    "Idea is that if the entities are known, we can work using this domain language directly, and don't have to use 'nodes' and 'edges' etc.\n",
    "It's more a relational model than a graph-database."
   ]
  },
  {
   "cell_type": "code",
   "execution_count": 3,
   "id": "83f695e1",
   "metadata": {},
   "outputs": [],
   "source": [
    "import os\n",
    "from langchain_openai import AzureChatOpenAI\n",
    "from dotenv import load_dotenv\n",
    "\n",
    "load_dotenv()\n",
    "\n",
    "\n",
    "llm = AzureChatOpenAI(\n",
    "            timeout=3*60*1000,\n",
    "            api_version=\"2025-02-01-preview\",\n",
    "            azure_endpoint=os.environ[\"AZURE_OPENAI_ENDPOINT\"],\n",
    "            azure_deployment=os.environ[\"AZURE_OPENAI_DEPLOYMENT_NAME\"],\n",
    "            api_key=os.environ[\"AZURE_OPENAI_API_KEY\"],\n",
    "            verbose=True,\n",
    "            reasoning_effort=\"medium\",\n",
    "         )"
   ]
  },
  {
   "cell_type": "markdown",
   "id": "d168d477",
   "metadata": {},
   "source": [
    "Using Azure Document Intelligence for reading documents."
   ]
  },
  {
   "cell_type": "code",
   "execution_count": 4,
   "id": "632bf103",
   "metadata": {},
   "outputs": [],
   "source": [
    "from azure.ai.documentintelligence.aio import DocumentIntelligenceClient\n",
    "from azure.core.credentials import AzureKeyCredential\n",
    "\n",
    "client = document_analysis_client = DocumentIntelligenceClient(os.environ[\"DOC_INTELLIGENCE_ENDPOINT\"],\n",
    "                                                               credential=AzureKeyCredential(os.environ[\"DOC_INTELLIGENCE_KEY\"]))"
   ]
  },
  {
   "cell_type": "code",
   "execution_count": 5,
   "id": "6842d4c8",
   "metadata": {},
   "outputs": [],
   "source": [
    "from azure.ai.documentintelligence.models import AnalyzeResult, DocumentContentFormat, AnalyzeDocumentRequest\n",
    "\n",
    "# You can add features like DocumentAnalysisFeature.OCR_HIGH_RESOLUTION, DocumentAnalysisFeature.BARCODES, etc.\n",
    "features = []\n",
    "\n",
    "file = \"./data/Dog-Breed-Characteristics-Behavior.pdf\"\n",
    "\n",
    "with open(file, \"rb\") as f:\n",
    "    analyze_request = AnalyzeDocumentRequest(bytes_source=f.read())\n",
    "    poller = await client.begin_analyze_document(\n",
    "        model_id=\"prebuilt-layout\",\n",
    "        body=analyze_request,\n",
    "        output_content_format=DocumentContentFormat.MARKDOWN,\n",
    "        features=features\n",
    "    )\n",
    "    result = await poller.result()"
   ]
  },
  {
   "cell_type": "markdown",
   "id": "6383b1c0",
   "metadata": {},
   "source": [
    "Create a typed model of the data."
   ]
  },
  {
   "cell_type": "code",
   "execution_count": 6,
   "id": "e77fc0c2",
   "metadata": {},
   "outputs": [],
   "source": [
    "from pydantic import BaseModel, Field\n",
    "from enum import Enum\n",
    "from typing import List, Dict, Any, Set\n",
    "\n",
    "\n",
    "class BreedingGroupEnum(str, Enum):\n",
    "    \"\"\"Enum for the different breeding groups defined by AKC.\"\"\"\n",
    "    HERDING = \"Herding Group\"\n",
    "    HOUND = \"Hound Group\"\n",
    "    NON_SPORTING = \"Non-Sporting Group\"\n",
    "    SPORTING = \"Sporting Group\"\n",
    "    TERRIER = \"Terrier Group\"\n",
    "    TOY = \"Toy Group\"\n",
    "    WORKING = \"Working Group\"\n",
    "\n",
    "\n",
    "class BreedingGroupCharacteristics(BaseModel):\n",
    "    \"\"\"Model for the characteristics of a breeding group.\"\"\"\n",
    "    group: BreedingGroupEnum = Field(..., description=\"The breeding group\")\n",
    "    characteristics: List[str] = Field(default_factory=list, description=\"List of characteristics associated with the breeding group\")\n",
    "    \n",
    "    class Config:\n",
    "        json_schema_extra = {\n",
    "            \"example\": {\n",
    "                \"group\": \"Herding Group\",\n",
    "                \"characteristics\": [\"Alert\", \"Smart\", \"Independent\", \"Confident\", \"Trainable\", \"Loyal\", \"Affectionate\"]\n",
    "            }\n",
    "        }\n",
    "\n",
    "\n",
    "class BreedFamily(str, Enum):\n",
    "    \"\"\"Enum for breed families within groups.\"\"\"\n",
    "    # Hound families\n",
    "    SIGHT_HOUND = \"Sight Hound\"\n",
    "    SCENT_HOUND = \"Scent Hound\"\n",
    "    # Sporting families\n",
    "    RETRIEVER = \"Retriever\"\n",
    "    SPANIEL = \"Spaniel\"\n",
    "    POINTER_SETTER = \"Pointer and Setter\"\n",
    "    # Working families\n",
    "    NORTHERN_BREED = \"Northern Breed\"\n",
    "    PROTECTION_BREED = \"Protection Breed\"\n",
    "    FLOCK_GUARD = \"Flock Guard\"\n",
    "    MOUNTAIN_DOG = \"Mountain Dog\"\n",
    "    OTHER = \"Other\"\n",
    "    # Add other families as needed\n",
    "\n",
    "\n",
    "class Origin(BaseModel):\n",
    "    \"\"\"Model for the origin of a breed.\"\"\"\n",
    "    country: str = Field(description=\"Country of origin, or unknown\")\n",
    "    region: str = Field(None, description=\"Specific region within the country if applicable, or unknown\")\n",
    "    purpose: str = Field(None, description=\"Original purpose for which the breed was developed, or unknown\")\n",
    "\n",
    "    class Config:\n",
    "        json_schema_extra = {\n",
    "            \"example\": {\n",
    "                \"country\": \"Germany\",\n",
    "                \"region\": \"Bavaria\",\n",
    "                \"purpose\": \"Herding livestock\"\n",
    "            }\n",
    "        }\n",
    "\n",
    "\n",
    "class Trait(BaseModel):\n",
    "    \"\"\"Model for individual traits that can be associated with breeds.\"\"\"\n",
    "    name: str = Field(..., description=\"Name of the trait\")\n",
    "    description: str = Field(None, description=\"Description of the trait. If missing, use 'n/a'\")\n",
    "    \n",
    "    class Config:\n",
    "        json_schema_extra = {\n",
    "            \"example\": {\n",
    "                \"name\": \"Intelligent\",\n",
    "                \"description\": \"Able to learn commands quickly and solve problems\"\n",
    "            }\n",
    "        }\n",
    "\n",
    "\n",
    "class DogBreed(BaseModel):\n",
    "    \"\"\"Model for a dog breed.\"\"\"\n",
    "    id: str = Field(..., description=\"Unique identifier for the breed\")\n",
    "    name: str = Field(..., description=\"Name of the breed\")\n",
    "    breeding_group: BreedingGroupEnum = Field(..., description=\"The AKC breeding group the breed belongs to. If unknown, use 'Other'\")\n",
    "    family: BreedFamily = Field(None, description=\"The family within the breeding group, if applicable\")\n",
    "    traits: List[str] = Field(default_factory=list, description=\"List of traits associated with this breed\")\n",
    "    characteristics: List[str] = Field(default_factory=list, description=\"List of characteristic behaviors of this breed\")\n",
    "    origin: Origin = Field(None, description=\"Origin information about the breed\")\n",
    "    size: str = Field(None, description=\"Size category (small, medium, large). If missing, use 'n/a'\")\n",
    "    # additional_properties: Dict[str, str] = Field(default_factory=dict, description=\"Any other properties associated with the breed\")\n",
    "    \n",
    "    class Config:\n",
    "        json_schema_extra = {\n",
    "            \"example\": {\n",
    "                \"required\": [\"id\", \"name\", \"breeding_group\"],\n",
    "                \"id\": \"german_shepherd\",\n",
    "                \"name\": \"German Shepherd\",\n",
    "                \"breeding_group\": \"Herding Group\",\n",
    "                \"family\": None,\n",
    "                \"traits\": [\"Intelligent\", \"Loyal\", \"Confident\", \"Courageous\", \"Steady\"],\n",
    "                \"characteristics\": [\"Alert\", \"Watchful\", \"Obedient\", \"Curious\", \"Protective\"],\n",
    "                \"origin\": {\n",
    "                    \"country\": \"Germany\",\n",
    "                    \"purpose\": \"Herding and guarding sheep\"\n",
    "                },\n",
    "                \"size\": \"large\"\n",
    "            }\n",
    "        }\n",
    "\n",
    "\n",
    "class DogKnowledge(BaseModel):\n",
    "    \"\"\"Model for a knowledge graph of dog breeds.\"\"\"\n",
    "    breeds: List[DogBreed] = Field(default_factory=list, description=\"List of dog breeds in the knowledge graph\")\n",
    "    breeding_groups: List[BreedingGroupCharacteristics] = Field(\n",
    "        default_factory=list, \n",
    "        description=\"List of breeding groups and their characteristics\"\n",
    "    )\n",
    "    \n",
    "    "
   ]
  },
  {
   "cell_type": "markdown",
   "id": "e4100f02",
   "metadata": {},
   "source": [
    "Use schema to extract structured information from the document"
   ]
  },
  {
   "cell_type": "code",
   "execution_count": 7,
   "id": "19756cfb",
   "metadata": {},
   "outputs": [],
   "source": [
    "from langchain_core.prompts import ChatPromptTemplate \n",
    "\n",
    "messages = [\n",
    "            (\"system\", \"Please extract structured information from following text\"),\n",
    "            (\"human\", \"{input}\"),\n",
    "        ]\n",
    "prompt = ChatPromptTemplate.from_messages(messages)"
   ]
  },
  {
   "cell_type": "code",
   "execution_count": 8,
   "id": "47959bcf",
   "metadata": {},
   "outputs": [],
   "source": [
    "structured_llm = llm.with_structured_output(DogKnowledge)\n",
    "\n",
    "chain = prompt | structured_llm\n",
    "\n",
    "response = chain.invoke({\"input\": result.content})"
   ]
  },
  {
   "cell_type": "code",
   "execution_count": 2,
   "id": "e164012c",
   "metadata": {},
   "outputs": [
    {
     "ename": "NameError",
     "evalue": "name 'response' is not defined",
     "output_type": "error",
     "traceback": [
      "\u001b[31m---------------------------------------------------------------------------\u001b[39m",
      "\u001b[31mNameError\u001b[39m                                 Traceback (most recent call last)",
      "\u001b[36mCell\u001b[39m\u001b[36m \u001b[39m\u001b[32mIn[2]\u001b[39m\u001b[32m, line 1\u001b[39m\n\u001b[32m----> \u001b[39m\u001b[32m1\u001b[39m \u001b[38;5;28mprint\u001b[39m(\u001b[43mresponse\u001b[49m)\n",
      "\u001b[31mNameError\u001b[39m: name 'response' is not defined"
     ]
    }
   ],
   "source": [
    "\n",
    "\n",
    "print(response)"
   ]
  }
 ],
 "metadata": {
  "kernelspec": {
   "display_name": ".venv (3.11.9)",
   "language": "python",
   "name": "python3"
  },
  "language_info": {
   "codemirror_mode": {
    "name": "ipython",
    "version": 3
   },
   "file_extension": ".py",
   "mimetype": "text/x-python",
   "name": "python",
   "nbconvert_exporter": "python",
   "pygments_lexer": "ipython3",
   "version": "3.11.9"
  }
 },
 "nbformat": 4,
 "nbformat_minor": 5
}
