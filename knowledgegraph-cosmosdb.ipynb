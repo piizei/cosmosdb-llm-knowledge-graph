{
 "cells": [
  {
   "cell_type": "markdown",
   "metadata": {},
   "source": []
  },
  {
   "cell_type": "markdown",
   "metadata": {},
   "source": [
    "# Create and query knowledge graph with LLM. (CosmosDB version)\n",
    "\n",
    "We created a pickle file in notebook ´[Create knowledge graph from PDF](./knowledgegraph.ipynb)´ that we will now use with CosmosDB"
   ]
  },
  {
   "cell_type": "code",
   "execution_count": null,
   "metadata": {},
   "outputs": [],
   "source": [
    "%pip install -r requirements.txt"
   ]
  },
  {
   "cell_type": "markdown",
   "metadata": {},
   "source": [
    "# Load env variables and connect to CosmosDB database\n",
    "\n",
    "You need to have CosmosDB Gremlin graph database in Azure.\n",
    "The database name is expected to be 'rag' and the graph-name 'kg'."
   ]
  },
  {
   "cell_type": "code",
   "execution_count": null,
   "metadata": {},
   "outputs": [],
   "source": [
    "import os\n",
    "from dotenv import load_dotenv\n",
    "from gremlin_python.driver import client, serializer\n",
    "import nest_asyncio\n",
    "\n",
    "\n",
    "load_dotenv()\n",
    "\n",
    "nest_asyncio.apply()\n",
    "client = client.Client(\n",
    "    url=os.environ[\"GREMLIN_URI\"],\n",
    "    traversal_source=\"g\",\n",
    "    username=\"/dbs/rag/colls/kg\", # If you want to use different database/graph names, edit this\n",
    "    password=os.environ[\"GREMLIN_PASSWORD\"],\n",
    "    message_serializer=serializer.GraphSONSerializersV2d0(),\n",
    ")"
   ]
  },
  {
   "cell_type": "code",
   "execution_count": null,
   "metadata": {},
   "outputs": [],
   "source": [
    "import pickle\n",
    "with open('./data/graph_docs.pkl','rb') as f:\n",
    "    graph_docs = pickle.load(f)"
   ]
  },
  {
   "cell_type": "code",
   "execution_count": null,
   "metadata": {},
   "outputs": [],
   "source": [
    "import os\n",
    "from gremlin_python.driver import client, serializer\n",
    "import nest_asyncio\n",
    "nest_asyncio.apply()\n",
    "client = client.Client(\n",
    "    url=os.environ[\"GREMLIN_URI\"],\n",
    "    traversal_source=\"g\",\n",
    "    username=\"/dbs/rag/colls/kg\",\n",
    "    password=os.environ[\"GREMLIN_PASSWORD\"],\n",
    "    message_serializer=serializer.GraphSONSerializersV2d0(),\n",
    ")\n",
    "\n",
    "def build_node_update_query(label_value, id_value, properties):\n",
    "    base_query = f\"g.V().hasLabel('{label_value}').has('id','{id_value}').fold().coalesce(unfold(),addV('{label_value}').property('id','{id_value}').property('type', '{label_value}')\"\n",
    "    for key, value in properties.items():\n",
    "        base_query += f\".property('{key}', '{value}')\"\n",
    "    \n",
    "    return base_query + \")\"\n",
    "\n",
    "def build_source_to_target_query(type, source, target, properties):\n",
    "    source_query = f\".hasLabel('{source['label']}').has('id','{source['id']}')\"\n",
    "    target_query = f\".hasLabel('{target['label']}').has('id','{target['id']}')\"\n",
    "    source = f\"g.V()\" + source_query\t\n",
    "    target = f\"g.V()\" + target_query\n",
    "    \n",
    "    base_query = f\"\"\"\n",
    "    {source} \n",
    "    .as('source')  \n",
    "    .outE('{type}').inV(){target_query}\n",
    "    .fold()  \n",
    "    .coalesce(  \n",
    "        __.unfold(),  \n",
    "        __.addE('{type}').from('source').to(  \n",
    "            {target}\n",
    "        )  \n",
    "    )\n",
    "    \"\"\"\n",
    "    for key, value in properties.items():\n",
    "        base_query += f\".property('{key}', '{value}')\"\n",
    "    \n",
    "\n",
    "    return base_query\n",
    "\n",
    "for document in graph_docs:\n",
    "            # Import nodes\n",
    "            for el in document.nodes:\n",
    "                #print (el)\n",
    "                query = build_node_update_query(el.type, el.id, el.properties)\n",
    "                #print(query)\n",
    "                #client.submit(query)\n",
    "                \n",
    "            for el in document.relationships:\n",
    "                print (el)\n",
    "                # Find or create the source vertex\n",
    "                source = client.submit(build_node_update_query(el.source.type, el.source.id, el.source.properties)).all().result()[0]                                \n",
    "                # Find or create the target vertex\n",
    "                target = client.submit(build_node_update_query(el.target.type, el.target.id, el.target.properties)).all().result()[0] \n",
    "                #target = self.g.V().hasLabel(el.target.type).has('id', el.target.id).fold().coalesce(self.g.unfold(), self.g.addV(el.target.type).property('id', el.target.id).property('pk', 'partitionKeyValue')).next()\n",
    "                # Find or create the edge\n",
    "                \n",
    "                edge = client.submit(build_source_to_target_query(el.type, source, target, el.properties))\n",
    "                print(edge)\n",
    "                # Update the properties of the edge\n",
    "                #for key, value in el.properties.items():\n",
    "\n",
    "                    #edge.property(key, value)'id', el.target.id).next())\n",
    "                #edge = source.addEdge(el.type.replace(\" \", \"_\").upper(), target)\n",
    "                #for key, value in el.properties.items():\n",
    "                    #edge.property(key, value)\n",
    "\n",
    "#rs = client.submit(\n",
    "#    message=(\n",
    "#   ),\n",
    "#    bindings={\n",
    "##        \"label_value\": \"Breed\",\n",
    " #       \"id_value\": \"Breed\"}\n",
    " #   )\n",
    "#print(rs.all().result())\n"
   ]
  },
  {
   "cell_type": "code",
   "execution_count": null,
   "metadata": {},
   "outputs": [],
   "source": [
    "import ssl\n",
    "from httpx import HTTPTransport\n",
    "from GremlinGraph import GremlinGraph\n",
    "from gremlin_python.process.anonymous_traversal import traversal\n",
    "from gremlin_python.driver.driver_remote_connection import DriverRemoteConnection\n",
    "\n",
    "g = traversal().with_remote(\n",
    "  DriverRemoteConnection(url=os.environ[\"GREMLIN_URI\"], username=\"/dbs/rag/colls/kg\", password=os.environ[\"GREMLIN_PASSWORD\"],\n",
    "                         transport_factory=lambda: HTTPTransport(read_timeout=60,\n",
    "                                                                    write_timeout=20,\n",
    "                                                                    heartbeat=10,\n",
    "                                                                    call_from_event_loop=True,\n",
    "                                                                    max_content_length=100*1024*1024,\n",
    "                                                                    ssl_options=ssl.create_default_context(ssl.Purpose.CLIENT_AUTH))))\n",
    "g = traversal().with_remote(DriverRemoteConnection(url=os.environ[\"GREMLIN_URI\"],username=\"/dbs/rag/colls/kg\", password=os.environ[\"GREMLIN_PASSWORD\"]))\n",
    "print(g.V().has_label('breed').next())\n",
    "for document in graph_docs:\n",
    "            # Import nodes\n",
    "            for el in document.nodes:\n",
    "                node =  g.V().has_label(el.type).has('id', el.id).tryNext().orElseGet(lambda: self.g.addV(el.type).property('id', el.id).next())\n",
    "                print(node)\n",
    "                    \n",
    "                    \n"
   ]
  }
 ],
 "metadata": {
  "kernelspec": {
   "display_name": ".venv",
   "language": "python",
   "name": "python3"
  },
  "language_info": {
   "codemirror_mode": {
    "name": "ipython",
    "version": 3
   },
   "file_extension": ".py",
   "mimetype": "text/x-python",
   "name": "python",
   "nbconvert_exporter": "python",
   "pygments_lexer": "ipython3",
   "version": "3.11.6+"
  }
 },
 "nbformat": 4,
 "nbformat_minor": 2
}
