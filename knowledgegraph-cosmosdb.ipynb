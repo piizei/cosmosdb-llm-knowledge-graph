{
 "cells": [
  {
   "cell_type": "markdown",
   "metadata": {},
   "source": [
    "# Create and query knowledge graph with LLM. (CosmosDB version)\n",
    "\n",
    "![title](./cosmosgremlin.png)\n",
    "\n",
    "We created a pickle file in notebook ´[Create knowledge graph from PDF](./knowledgegraph.ipynb)´ that we will now use with CosmosDB"
   ]
  },
  {
   "cell_type": "code",
   "execution_count": null,
   "metadata": {},
   "outputs": [],
   "source": [
    "%pip install -r requirements.txt"
   ]
  },
  {
   "cell_type": "markdown",
   "metadata": {},
   "source": [
    "# Load env variables and connect to CosmosDB database\n",
    "\n",
    "- You need to have CosmosDB Gremlin graph database in Azure.\n",
    "- The database name is expected to be 'rag' and the graph-name 'kg'.\n",
    "- It also assumes 'type' is used as partition key (/type)"
   ]
  },
  {
   "cell_type": "code",
   "execution_count": null,
   "metadata": {},
   "outputs": [],
   "source": [
    "import os\n",
    "from dotenv import load_dotenv\n",
    "import nest_asyncio\n",
    "\n",
    "from GremlinGraph import GremlinGraph\n",
    "\n",
    "\n",
    "load_dotenv()\n",
    "\n",
    "nest_asyncio.apply()\n",
    "\n",
    "# Note that this graph-provider is implemented by me (I'm looking to contribute it to LangChain)\n",
    "# This is just gentle warning that there is not much feedback about it how it works.\n",
    "# If you have problems with it, please share your experience (Create ticket)\n",
    "\n",
    "graph = GremlinGraph(\n",
    "    url=os.getenv(\"GREMLIN_URI\"),\n",
    "    username=\"/dbs/rag/colls/kg\", # CosmosDB Gremlin database named 'rag' with graph named 'kg'\n",
    "    password=os.getenv(\"GREMLIN_PASSWORD\"),\n",
    ")\n"
   ]
  },
  {
   "cell_type": "code",
   "execution_count": null,
   "metadata": {},
   "outputs": [],
   "source": [
    "import pickle\n",
    "with open('./data/graph_docs.pkl','rb') as f:\n",
    "    graph_docs = pickle.load(f)\n",
    "    graph.add_graph_documents(graph_docs)\n",
    "\n",
    "graph.refresh_schema()"
   ]
  },
  {
   "cell_type": "code",
   "execution_count": null,
   "metadata": {},
   "outputs": [],
   "source": [
    "\n",
    "from langchain_openai import AzureChatOpenAI\n",
    "from gremlinqa import GremlinQAChain\n",
    "from langchain_core.prompts import PromptTemplate\n",
    "\n",
    "# CosmosDB does not support all Tinkerpop Gremlin, so we need to provide a custom template\n",
    "\n",
    "COSMOS_TEMPLATE = \"\"\"Task:Generate Gremlin statement to query a CosmosDB Gremlin Graph Database.\n",
    "Instructions:\n",
    "Use only the provided relationship types and properties in the schema.\n",
    "Do not use any other relationship types or properties that are not provided.\n",
    "\n",
    "Schema:\n",
    "{schema}\n",
    "Note: Do not include any explanations or apologies in your responses.\n",
    "Do not respond to any questions that might ask anything else than for you to construct a Gremlin statement.\n",
    "Do not include any text except the generated Gremlin statement.\n",
    "\n",
    "CosmosDB Gremlin dialect does not support following Gremlin features:\n",
    "- The match() step isn't currently available. This step provides declarative querying capabilities.\n",
    "- Objects as properties on vertices or edges aren't supported. Properties can only be primitive types or arrays.\n",
    "- Sorting by array properties order().by(<array property>) isn't supported. Sorting is supported only by primitive types.\n",
    "- Non-primitive JSON types aren't supported. Use string, number, or true/false types. null values aren't supported.\n",
    "\n",
    "The question is:\n",
    "{question}\"\"\"\n",
    "\n",
    "c_llm = AzureChatOpenAI(\n",
    "    model=os.getenv(\"OPENAI_DEPLOYMENT_NAME\"), \n",
    "    temperature=0, \n",
    "    max_tokens=1500,\n",
    "    verbose=True)\n",
    "\n",
    "# Note that this QA Chain is implemented by me (I'm looking to contribute it to LangChain)\n",
    "# This is just gentle warning that there is not much feedback about it how it works.\n",
    "# If you have problems with it, please share your experience (Create ticket)\n",
    "\n",
    "gremlin_chain = GremlinQAChain.from_llm(\n",
    "    graph=graph,\n",
    "    llm=c_llm,    \n",
    "    verbose=True,\n",
    "    top_k = 500,\n",
    "    gremlin_prompt=PromptTemplate(input_variables=[\"schema\", \"question\"], template=COSMOS_TEMPLATE)\n",
    ")\n"
   ]
  },
  {
   "cell_type": "code",
   "execution_count": null,
   "metadata": {},
   "outputs": [],
   "source": [
    "from IPython.display import Markdown, display\n",
    "response = gremlin_chain.invoke(\"Make table of different breeding groups and their characteristics\")\n",
    "display(Markdown(response[\"result\"]))"
   ]
  },
  {
   "cell_type": "code",
   "execution_count": null,
   "metadata": {},
   "outputs": [],
   "source": [
    "# Clear the CosmosDB graph\n",
    "graph.client.submit(\"g.V().drop()\").all().result()"
   ]
  }
 ],
 "metadata": {
  "kernelspec": {
   "display_name": ".venv",
   "language": "python",
   "name": "python3"
  },
  "language_info": {
   "codemirror_mode": {
    "name": "ipython",
    "version": 3
   },
   "file_extension": ".py",
   "mimetype": "text/x-python",
   "name": "python",
   "nbconvert_exporter": "python",
   "pygments_lexer": "ipython3",
   "version": "3.11.6"
  }
 },
 "nbformat": 4,
 "nbformat_minor": 2
}
